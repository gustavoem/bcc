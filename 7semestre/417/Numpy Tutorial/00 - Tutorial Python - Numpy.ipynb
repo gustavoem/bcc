{
 "cells": [
  {
   "cell_type": "markdown",
   "metadata": {},
   "source": [
    "# Índice para o tutorial Python - Numpy\n",
    "\n",
    "Estes notebooks são um breve tutorial sobre a linguagem de programação python e o pacote numpy, baseado no curso pynumpy do ambiente AdessoWiki da Unicamp, do professor Roberto Lotufo. Este é um índice sobre o curso, indicando o tópico de cada notebook do tutorial.\n",
    "\n",
    "- tutorial_python_1_1 - Tipos de variáveis que podem ser definidas na linguagem python\n",
    "- tutorial_python_1_2 - Iteradores - loops na linguagem python\n",
    "- tutorial_python_1_3 - Definição de funções na linguagem python\n",
    "- tutorial_numpy_1_index - Página principal do tutorial NumPy\n",
    "- tutorial_numpy_1_1 - Tipo numpy.array(narray)\n",
    "- tutorial_numpy_1_2 - Fatiamento unidimensional\n",
    "- tutorial_numpy_1_3 - Fatiamento bidimensional\n",
    "- tutorial_numpy_1_4 - Tipos de cópias\n",
    "- tutorial_numpy_1_8 - Funções Importantes - tile\n",
    "- tutorial_numpy_1_9 - Funções Importantes - resize\n",
    "- tutorial_numpy_1_10 - Funções Importantes - clip\n",
    "- tutorial_numpy_1_11 - Formatando arrays para impressão\n"
   ]
  }
 ],
 "metadata": {
  "kernelspec": {
   "display_name": "Python 3",
   "language": "python",
   "name": "python3"
  },
  "language_info": {
   "codemirror_mode": {
    "name": "ipython",
    "version": 3
   },
   "file_extension": ".py",
   "mimetype": "text/x-python",
   "name": "python",
   "nbconvert_exporter": "python",
   "pygments_lexer": "ipython3",
   "version": "3.6.0"
  },
  "toc": {
   "colors": {
    "hover_highlight": "#DAA520",
    "running_highlight": "#FF0000",
    "selected_highlight": "#FFD700"
   },
   "moveMenuLeft": true,
   "nav_menu": {
    "height": "31px",
    "width": "252px"
   },
   "navigate_menu": true,
   "number_sections": true,
   "sideBar": true,
   "threshold": 4,
   "toc_cell": true,
   "toc_section_display": "block",
   "toc_window_display": false
  }
 },
 "nbformat": 4,
 "nbformat_minor": 2
}
