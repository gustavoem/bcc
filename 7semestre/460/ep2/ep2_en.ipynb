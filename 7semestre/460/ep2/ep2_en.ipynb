{
 "cells": [
  {
   "cell_type": "code",
   "execution_count": 1,
   "metadata": {
    "collapsed": false,
    "deletable": true,
    "editable": true
   },
   "outputs": [],
   "source": [
    "%matplotlib inline\n",
    "import matplotlib.pyplot as plt\n",
    "import numpy as np\n",
    "import PIL\n",
    "\n",
    "from mac0460_5832.utils import *"
   ]
  },
  {
   "cell_type": "markdown",
   "metadata": {
    "deletable": true,
    "editable": true
   },
   "source": [
    "# MAC0460/5832 - Lista 2: Model selection\n",
    "\n",
    "### Due date: 23h55m - 05/06/2017\n",
    "\n",
    "\n",
    "Q1. Using the multiresolution approach to w-operator learning, find an operator capable of filtering noise. Try different hipothesis set based on different subsampling patterns, as shown below:\n",
    "\n",
    "1. Subsampling 1: ![alt text](imgs/q1_h1.png \"1\")\n",
    "2. Subsampling 2: ![alt text](imgs/q1_h2.png \"2\")\n",
    "3. Subsampling 3: ![alt text](imgs/q1_h3.png \"2\")\n",
    "\n",
    "For each hipothesis set, plot the errors $E_{in}$ and $E_{val}$ obtained during the training phase. After selecting the best model, retraing your operator using all the data and print the new error $E_{in}$.\n",
    "\n",
    "Use all the images in the folder imgs/q1 to train and validate your operator (note, they are the same images from the previous EP)."
   ]
  },
  {
   "cell_type": "code",
   "execution_count": null,
   "metadata": {
    "collapsed": false,
    "deletable": true,
    "editable": true
   },
   "outputs": [],
   "source": []
  },
  {
   "cell_type": "markdown",
   "metadata": {
    "deletable": true,
    "editable": true
   },
   "source": [
    "Q2. Consider again the problem of filtering noise from bonary images. Using the files inside imgs/q2/, try different boolean functions to filter noise. The boolean function **openning** is defined applying an **erosion** followed by a **dilation**, that is $\\delta_{B2}\\epsilon_{B1}$, where $B1$ and $B2$ are structuring elements. Analogous to opening, **closing** is defined as a **dilation** followed by an **erosion** ($\\epsilon_{B2}\\delta_{B1}$). Based on the functions *erosion* and *dilation* defined in mac0460_5832/utils.py, try the following hypothesis set:\n",
    "\n",
    "1. Opening;\n",
    "2. Closing;\n",
    "3. Opening followed by a closing;\n",
    "\n",
    "For each hypothesis set, define different functions by varying $B1$ and $B2$ (i.e. creating functions for the opening set:  $\\mathcal{F} = \\{\\psi_{B1B2}: \\psi =  \\delta_{B2}\\epsilon_{B1}, B1, B2 \\subseteq W_{3x3} \\}$, where $W_{3x3}$ is the 3x3 structuring element). Print best suited function for this task and evalute its performance on a set of test images.\n",
    "\n",
    "Obs: there are functions called erosion and dilation in utils.py. But those functions use the same structuring element for erosion and dilation, thus they don't allow to try different structuring elements."
   ]
  },
  {
   "cell_type": "code",
   "execution_count": 2,
   "metadata": {
    "collapsed": false,
    "deletable": true,
    "editable": true,
    "scrolled": false
   },
   "outputs": [
    {
     "data": {
      "image/png": "[encoded data removed]",
      "text/plain": [
       "<matplotlib.figure.Figure at 0x7f32bc595ef0>"
      ]
     },
     "metadata": {},
     "output_type": "display_data"
    }
   ],
   "source": [
    "# Exemplo \n",
    "draw_img_pair(read_img('imgs/q2/dest.png'), read_img('imgs/q2/src0.png'), figsz=(11, 3.5))"
   ]
  },
  {
   "cell_type": "code",
   "execution_count": null,
   "metadata": {
    "collapsed": true
   },
   "outputs": [],
   "source": []
  }
 ],
 "metadata": {
  "kernelspec": {
   "display_name": "Python 3",
   "language": "python",
   "name": "python3"
  },
  "language_info": {
   "codemirror_mode": {
    "name": "ipython",
    "version": 3
   },
   "file_extension": ".py",
   "mimetype": "text/x-python",
   "name": "python",
   "nbconvert_exporter": "python",
   "pygments_lexer": "ipython3",
   "version": "3.6.0"
  }
 },
 "nbformat": 4,
 "nbformat_minor": 2
}
