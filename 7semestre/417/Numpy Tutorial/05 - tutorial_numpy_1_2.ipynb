{
 "cells": [
  {
   "cell_type": "markdown",
   "metadata": {
    "toc": "true"
   },
   "source": [
    "# Table of Contents\n",
    " <p><div class=\"lev1 toc-item\"><a href=\"#Fatiamento-em-narray-unidimensional\" data-toc-modified-id=\"Fatiamento-em-narray-unidimensional-1\"><span class=\"toc-item-num\">1&nbsp;&nbsp;</span>Fatiamento em narray unidimensional</a></div><div class=\"lev1 toc-item\"><a href=\"#Inicializando-um-array-unidimensional\" data-toc-modified-id=\"Inicializando-um-array-unidimensional-2\"><span class=\"toc-item-num\">2&nbsp;&nbsp;</span>Inicializando um array unidimensional</a></div><div class=\"lev1 toc-item\"><a href=\"#Exemplo-simples-de-fatiamento\" data-toc-modified-id=\"Exemplo-simples-de-fatiamento-3\"><span class=\"toc-item-num\">3&nbsp;&nbsp;</span>Exemplo simples de fatiamento</a></div><div class=\"lev1 toc-item\"><a href=\"#Exemplo-de-fatiamento-com-indices-negativos\" data-toc-modified-id=\"Exemplo-de-fatiamento-com-indices-negativos-4\"><span class=\"toc-item-num\">4&nbsp;&nbsp;</span>Exemplo de fatiamento com indices negativos</a></div><div class=\"lev2 toc-item\"><a href=\"#Acessando-o-último-elemento-com-índice-negativo\" data-toc-modified-id=\"Acessando-o-último-elemento-com-índice-negativo-41\"><span class=\"toc-item-num\">4.1&nbsp;&nbsp;</span>Acessando o último elemento com índice negativo</a></div><div class=\"lev2 toc-item\"><a href=\"#Inversão-do-array-com-step-negativo-(step-=--1)\" data-toc-modified-id=\"Inversão-do-array-com-step-negativo-(step-=--1)-42\"><span class=\"toc-item-num\">4.2&nbsp;&nbsp;</span>Inversão do array com step negativo (step = -1)</a></div><div class=\"lev1 toc-item\"><a href=\"#Fatiamento-avançado\" data-toc-modified-id=\"Fatiamento-avançado-5\"><span class=\"toc-item-num\">5&nbsp;&nbsp;</span>Fatiamento avançado</a></div><div class=\"lev2 toc-item\"><a href=\"#Supressão-do-indice-limite-inferior\" data-toc-modified-id=\"Supressão-do-indice-limite-inferior-51\"><span class=\"toc-item-num\">5.1&nbsp;&nbsp;</span>Supressão do indice limite inferior</a></div><div class=\"lev2 toc-item\"><a href=\"#Supressão-do-indice-limite-superior\" data-toc-modified-id=\"Supressão-do-indice-limite-superior-52\"><span class=\"toc-item-num\">5.2&nbsp;&nbsp;</span>Supressão do indice limite superior</a></div><div class=\"lev2 toc-item\"><a href=\"#Supressão-do-indice-do-step\" data-toc-modified-id=\"Supressão-do-indice-do-step-53\"><span class=\"toc-item-num\">5.3&nbsp;&nbsp;</span>Supressão do indice do step</a></div><div class=\"lev2 toc-item\"><a href=\"#Todos-os-elementos-com-passo-unitário\" data-toc-modified-id=\"Todos-os-elementos-com-passo-unitário-54\"><span class=\"toc-item-num\">5.4&nbsp;&nbsp;</span>Todos os elementos com passo unitário</a></div><div class=\"lev1 toc-item\"><a href=\"#Documentação-Oficial-Numpy\" data-toc-modified-id=\"Documentação-Oficial-Numpy-6\"><span class=\"toc-item-num\">6&nbsp;&nbsp;</span>Documentação Oficial Numpy</a></div><div class=\"lev1 toc-item\"><a href=\"#Links-Interessantes\" data-toc-modified-id=\"Links-Interessantes-7\"><span class=\"toc-item-num\">7&nbsp;&nbsp;</span>Links Interessantes</a></div>"
   ]
  },
  {
   "cell_type": "markdown",
   "metadata": {},
   "source": [
    "# Fatiamento em narray unidimensional\n",
    "\n",
    "Um recurso importante do numpy é o fatiamento no qual é possível acessar um subconjunto do array de diversas formas. O fatiamento define os índices onde o array será acessado definindo o ponto inicial, final e o passo entre eles, nesta ordem: [inicial:final:passo]."
   ]
  },
  {
   "cell_type": "markdown",
   "metadata": {},
   "source": [
    "# Inicializando um array unidimensional"
   ]
  },
  {
   "cell_type": "code",
   "execution_count": 9,
   "metadata": {
    "collapsed": false
   },
   "outputs": [
    {
     "name": "stdout",
     "output_type": "stream",
     "text": [
      "a = \n",
      " [ 0  1  2  3  4  5  6  7  8  9 10 11 12 13 14 15 16 17 18 19]\n"
     ]
    }
   ],
   "source": [
    "import numpy as np\n",
    "\n",
    "a = np.arange(20) # a é um vetor de dimensão 20\n",
    "print('a = \\n', a)"
   ]
  },
  {
   "cell_type": "markdown",
   "metadata": {},
   "source": [
    "# Exemplo simples de fatiamento\n",
    "\n",
    "Para a realização do fatiamento são utilizados 3 parâmetros, colocados no local do índice do array. Os 3 parâmetros são separados por dois pontos \":\". Todos os 3 parâmetros podem ser opcionais que ocorrem quando o valor inicial é 0, o valor final é o tamanho do array e o passo é 1. Lembrar que a ordem deles é: [inicial:final:passo]. Se o passo for 1 fica: [inicial:final]. Se o início for 0 fica: [:final] e se o final for o último fica: [inicio:] e se forem todos [:].\n",
    "\n",
    "O fatiamento é feito começando pelo primeiro valor, adicionando-se o passo até antes do último valor. Três aspectos são extremamente importantes de serem lembrados: O índice inicial começa em zero, o índice final nunca é atingido, o último índice utilizado é sempre o imediatamente anterior e o Numpy admite índices negativos, que é uma indexação do último (-1) até o primeiro elemento (-W).\n",
    "\n",
    "Os exemplos a seguir ajudam a fixar estes conceitos.\n",
    "\n",
    "O código abaixo acessa os elementos ímpares começando de 1 até 14:"
   ]
  },
  {
   "cell_type": "code",
   "execution_count": 10,
   "metadata": {
    "collapsed": false
   },
   "outputs": [
    {
     "name": "stdout",
     "output_type": "stream",
     "text": [
      "Resultado da operação a[1:15:2]\n",
      "[ 1  3  5  7  9 11 13]\n"
     ]
    }
   ],
   "source": [
    "a = np.arange(20)\n",
    "print('Resultado da operação a[1:15:2]')\n",
    "print(a[1:15:2])"
   ]
  },
  {
   "cell_type": "markdown",
   "metadata": {},
   "source": [
    "# Exemplo de fatiamento com indices negativos\n",
    "\n",
    "## Acessando o último elemento com índice negativo\n",
    "\n",
    "O código abaixo acessa os elementos ímpares até antes do último elemento:"
   ]
  },
  {
   "cell_type": "code",
   "execution_count": 11,
   "metadata": {
    "collapsed": false
   },
   "outputs": [
    {
     "name": "stdout",
     "output_type": "stream",
     "text": [
      "Resultado da operação a[1:-1:2]\n",
      "[ 1  3  5  7  9 11 13 15 17]\n",
      "Note que o fatiamento termina antes do último elemento (-1)\n"
     ]
    }
   ],
   "source": [
    "a = np.arange(20)\n",
    "print('Resultado da operação a[1:-1:2]')\n",
    "print(a[1:-1:2])\n",
    "print('Note que o fatiamento termina antes do último elemento (-1)')"
   ]
  },
  {
   "cell_type": "markdown",
   "metadata": {},
   "source": [
    "## Inversão do array com step negativo (step = -1)"
   ]
  },
  {
   "cell_type": "code",
   "execution_count": 12,
   "metadata": {
    "collapsed": false
   },
   "outputs": [
    {
     "name": "stdout",
     "output_type": "stream",
     "text": [
      "Resultado da operação a[-3:2:-1]\n",
      "[17 16 15 14 13 12 11 10  9  8  7  6  5  4  3]\n",
      "Note que o fatiamento retorna o array invertido\n",
      "Antepenúltimo até o terceiro elemento com step = -1\n"
     ]
    }
   ],
   "source": [
    "a = np.arange(20)\n",
    "print('Resultado da operação a[-3:2:-1]')\n",
    "print(a[-3:2:-1])\n",
    "print('Note que o fatiamento retorna o array invertido')\n",
    "print('Antepenúltimo até o terceiro elemento com step = -1')"
   ]
  },
  {
   "cell_type": "markdown",
   "metadata": {},
   "source": [
    "# Fatiamento avançado\n",
    "\n",
    "É possível realizar o fatiamento utilizando os 3 parâmetros explícitos ( o limite inferior, limite superior e o step), ou podemos suprimir algum desses parâmetros. Nestes casos a função toma o valor defaut: limite inferior = primeiro elemento, limite superior = último elemento e step = 1.\n",
    "\n",
    "É possível realizar o fatiamento utilizando os 3 parâmetros explícitos\n",
    "( o limite inferior, limite superior e o step), ou podemos suprimir algum \n",
    "desses parâmetros. Nestes casos a função toma o valor defaut: limite \n",
    "inferior = primeiro elemento, limite superior = último elemento e step = 1.\n",
    "\n",
    "\n",
    "|Proposta inicial     | Equivalente |\n",
    "|---------------------|-------------|\n",
    "|a[0:len(a):1]        | a[:]        |\n",
    "|a[0:10:1]            | a[:10]      |\n",
    "|a[0:10:2]            | a[:10:2]    |\n",
    "|a[2:len(a):1]        | a[2::]      |\n",
    "|a[2:len(a):2]        | a[2::2]     |"
   ]
  },
  {
   "cell_type": "markdown",
   "metadata": {},
   "source": [
    "## Supressão do indice limite inferior\n",
    "\n",
    "Quando o índice do limite inferior é omitido, é subentendido que é 0:"
   ]
  },
  {
   "cell_type": "code",
   "execution_count": 13,
   "metadata": {
    "collapsed": false
   },
   "outputs": [
    {
     "name": "stdout",
     "output_type": "stream",
     "text": [
      "Resultado da operação a[:15:2]\n",
      "[ 0  2  4  6  8 10 12 14]\n",
      "Note que o fatiamento inicia do primeiro elemento\n",
      "Primeiro elemento até antes do 15o com passo duplo\n"
     ]
    }
   ],
   "source": [
    "a = np.arange(20)\n",
    "print('Resultado da operação a[:15:2]')\n",
    "print(a[:15:2])\n",
    "print('Note que o fatiamento inicia do primeiro elemento')\n",
    "print('Primeiro elemento até antes do 15o com passo duplo')"
   ]
  },
  {
   "cell_type": "markdown",
   "metadata": {},
   "source": [
    "## Supressão do indice limite superior\n",
    "\n",
    "Quando o índice do limite superior é omitido, fica implícito que é o último elemento:"
   ]
  },
  {
   "cell_type": "code",
   "execution_count": 14,
   "metadata": {
    "collapsed": false
   },
   "outputs": [
    {
     "name": "stdout",
     "output_type": "stream",
     "text": [
      "Resultado da operação a[1::2]\n",
      "[ 1  3  5  7  9 11 13 15 17 19]\n",
      "Note que o fatiamento termina último elemento\n",
      "Primeiro elemento até o último com passo duplo\n"
     ]
    }
   ],
   "source": [
    "a = np.arange(20)\n",
    "print('Resultado da operação a[1::2]')\n",
    "print(a[1::2])\n",
    "print('Note que o fatiamento termina último elemento')\n",
    "print('Primeiro elemento até o último com passo duplo')"
   ]
  },
  {
   "cell_type": "markdown",
   "metadata": {},
   "source": [
    "## Supressão do indice do step\n",
    "\n",
    "O índice do step é opcional e quando não é indicado, seu valor é 1:"
   ]
  },
  {
   "cell_type": "code",
   "execution_count": 15,
   "metadata": {
    "collapsed": false
   },
   "outputs": [
    {
     "name": "stdout",
     "output_type": "stream",
     "text": [
      "Resultado da operação a[1:15]\n",
      "[ 1  2  3  4  5  6  7  8  9 10 11 12 13 14]\n",
      "Note que o fatiamento tem step unitário\n",
      "Primeiro elemento até antes do 15o com passo um\n"
     ]
    }
   ],
   "source": [
    "a = np.arange(20)\n",
    "print('Resultado da operação a[1:15]')\n",
    "print(a[1:15])\n",
    "print('Note que o fatiamento tem step unitário')\n",
    "print('Primeiro elemento até antes do 15o com passo um')"
   ]
  },
  {
   "cell_type": "markdown",
   "metadata": {},
   "source": [
    "## Todos os elementos com passo unitário"
   ]
  },
  {
   "cell_type": "code",
   "execution_count": 16,
   "metadata": {
    "collapsed": false
   },
   "outputs": [
    {
     "name": "stdout",
     "output_type": "stream",
     "text": [
      "Resultado da operação a[:]\n",
      "[ 0  1  2  3  4  5  6  7  8  9 10 11 12 13 14 15 16 17 18 19]\n",
      "Todos os elementos com passo unitário\n"
     ]
    }
   ],
   "source": [
    "a = np.arange(20)\n",
    "print('Resultado da operação a[:]')\n",
    "print(a[:])\n",
    "print('Todos os elementos com passo unitário')"
   ]
  },
  {
   "cell_type": "markdown",
   "metadata": {},
   "source": [
    "# Documentação Oficial Numpy\n",
    "\n",
    "[Scipy.org: indexação](https://docs.scipy.org/doc/numpy/reference/arrays.indexing.html)\n",
    "\n",
    "# Links Interessantes\n",
    "\n",
    "[Scipy Lectures: Indexação e fatiamento](http://www.scipy-lectures.org/intro/numpy/array_object.html#indexing-and-slicing)\n"
   ]
  },
  {
   "cell_type": "code",
   "execution_count": null,
   "metadata": {
    "collapsed": true
   },
   "outputs": [],
   "source": []
  }
 ],
 "metadata": {
  "kernelspec": {
   "display_name": "Python 3",
   "language": "python",
   "name": "python3"
  },
  "language_info": {
   "codemirror_mode": {
    "name": "ipython",
    "version": 3
   },
   "file_extension": ".py",
   "mimetype": "text/x-python",
   "name": "python",
   "nbconvert_exporter": "python",
   "pygments_lexer": "ipython3",
   "version": "3.6.0"
  },
  "toc": {
   "colors": {
    "hover_highlight": "#DAA520",
    "running_highlight": "#FF0000",
    "selected_highlight": "#FFD700"
   },
   "moveMenuLeft": true,
   "nav_menu": {
    "height": "65px",
    "width": "252px"
   },
   "navigate_menu": true,
   "number_sections": true,
   "sideBar": true,
   "threshold": 4,
   "toc_cell": true,
   "toc_section_display": "block",
   "toc_window_display": false
  }
 },
 "nbformat": 4,
 "nbformat_minor": 2
}
