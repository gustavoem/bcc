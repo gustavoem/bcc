{
 "cells": [
  {
   "cell_type": "code",
   "execution_count": 1,
   "metadata": {
    "collapsed": false
   },
   "outputs": [],
   "source": [
    "import numpy as np\n",
    "import matplotlib.pyplot as plt\n",
    "import tensorflow as tf\n",
    "\n",
    "def int_to_binary_arr (n):\n",
    "    arr = np.zeros (10)\n",
    "    i = 0\n",
    "    while (n > 0):\n",
    "        arr[i] = (n % 2)\n",
    "        i += 1\n",
    "        n //= 2\n",
    "    return arr[::-1]\n",
    "\n",
    "\n",
    "# Plots E_in and E_val\n",
    "def plot_error (n, errors_list, labels_list):\n",
    "    ax = plt.gca ()\n",
    "    x = range (1, n + 1)\n",
    "    for i, error_t in enumerate (errors_list):\n",
    "        plt.plot (x, error_t, label = labels_list[i])    \n",
    "    handlers, labels = ax.get_legend_handles_labels ()\n",
    "    ax.legend (handlers, labels, loc = 'upper right', numpoints = 1)\n",
    "    plt.ylabel ('Relative error')\n",
    "    plt.xlabel ('Number of images sampled x5000')\n",
    "    plt.show ()\n",
    "    plt.clf ()\n",
    "    \n",
    "    \n",
    "# Given a set of size N, returns a random partition of this set\n",
    "# containing two subsets of size N - k and k\n",
    "def validation_partition (data_set, k):\n",
    "    np.random.shuffle (data_set)\n",
    "    return (data_set[k:], data_set[:k])\n",
    "\n",
    "\n",
    "# Calculates error of a data set\n",
    "def avg_error (data_set, X, Y, cost):\n",
    "    data_set_size = data_set.shape[0]\n",
    "    err = 0\n",
    "    for i in range (data_set_size):\n",
    "        features = np.empty ([1, features_size])\n",
    "        features[0, :] = data_set[i, 1:]\n",
    "        label = np.empty ([1, output_size])\n",
    "        label[0, :] = int_to_binary_arr (data_set[i, 0])\n",
    "            \n",
    "        # Forward propagation and error calculation\n",
    "        e = sess.run (cost, {X: features, Y: label})\n",
    "        err += e\n",
    "    return err / data_set_size"
   ]
  },
  {
   "cell_type": "markdown",
   "metadata": {},
   "source": [
    "# MAC0460/5832 - Lista 3: Redes Neurais - MNIST\n",
    "\n",
    "### Data de Entrega: 23h55m do dia 23/06/2017\n",
    "\n",
    "##### Classificação de dígitos\n",
    "Os dataset para esta tarefa foi tirado da competição do kaggle de reconhecimento de dígitos (https://www.kaggle.com/c/digit-recognizer) e está disponível em http://vision.ime.usp.br/~caiomr/mac0460_5832/train.csv.gz. O dataset está sob a licença Creative Commons Attribution-Share Alike 3.0 license (https://creativecommons.org/licenses/by-sa/3.0/). O dataset foi zipado, mas os dados estão inalterados. Cada linha (amostra) do arquivo contém 785 colunas: a primeira informa o label da amostra e as outras 784 são os valores dos pixels da imagem (28 x 28) que representa o dígito.\n",
    "\n",
    "Q1. Projete uma rede neural para resolver o problema de classificação de dígitos. Baixe o arquivo train.csv.gz (link acima) e dezipe-o para a pasta data/. Verifique que as células abaixo executam com sucesso e exibem o resultado esperado. Utilize os pacotes de python tensorflow (https://www.tensorflow.org/) ou theano (http://deeplearning.net/software/theano/) para implementar sua rede neural. Escolha o que preferir/tiver mais familiaridade - ou o quiser passar a ter mais familiaridade :) - para definir sua rede neural. Usem a arquitetura 3-layer NN 300+100 hidden units (erro 3.05%), como descrito no site http://yann.lecun.com/exdb/mnist/index.html.\n",
    "\n",
    "\n",
    "Façam os três seguintes experimentos:\n",
    "\n",
    "1. Imagem original.\n",
    "2. Imagem amostrada com passo 1, isto é, reduz a imagem para 1/4 do número total de pixels.\n",
    "3. Imagem amostrada com passo 2, isto é, reduz a imagem para 1/16 do número total de pixels.\n",
    "\n",
    "\n",
    "Em cada experimento, execute os seguintes procedimentos:\n",
    "1. Compute a curva experimental de aprendizado (N = 5000, N = 10000, N = 15000, ... N = 35000), estimar o $E_{out}$ a partir das 7000 amostras não usadas.\n",
    "2. Para N = 35000 (isto é, separe 7000 amostras para validação), calcule o valor da precisão $\\epsilon = E_{out} - E_{in}$.\n",
    "3. Adote o valor de $\\epsilon$ calculado em 2; repita dez vezes o experimento de aprendizado para $N = 35000$ e 7000 amostras de validação (em cada experimento, escolha aleatoriamente entre as 42000 amostras 7000 para formar o conjunto de validação e as restantes para treinamento); calcule o $E_{out}$ para cada um dos experimentos; a partir dos $E_{out}$ calculados, estime o valor do parâmetro $\\delta$.\n",
    "4. Comente os resultados obtidos.\n",
    "\n",
    "Adote *learning rate* $\\eta = 0.001$.\n",
    "Para o item 3, lembre da equação $P(|E_{out}(h_{opt}) - E_{in}(h_{opt})| < \\epsilon) > 1 - \\delta$."
   ]
  },
  {
   "cell_type": "code",
   "execution_count": 2,
   "metadata": {
    "collapsed": false
   },
   "outputs": [
    {
     "name": "stdout",
     "output_type": "stream",
     "text": [
      "(42000, 785)\n"
     ]
    }
   ],
   "source": [
    "########################################################################\n",
    "data = np.genfromtxt('data/train.csv', delimiter=',', skip_header=1).astype(np.dtype('uint8'))\n",
    "print (data.shape)"
   ]
  },
  {
   "cell_type": "code",
   "execution_count": 3,
   "metadata": {
    "collapsed": false
   },
   "outputs": [
    {
     "name": "stdout",
     "output_type": "stream",
     "text": [
      "1 iterations complete on training! E_in = 1.23843348026 E_out = 1.10046777109\n",
      "5001 iterations complete on training! E_in = 0.716968424134 E_out = 0.716784218154\n",
      "10001 iterations complete on training! E_in = 0.665600452466 E_out = 0.663919678169\n",
      "15001 iterations complete on training! E_in = 0.427496201984 E_out = 0.428738463686\n",
      "20001 iterations complete on training! E_in = 0.195695381381 E_out = 0.198707687714\n",
      "25001 iterations complete on training! E_in = 0.1690821586 E_out = 0.171320979011\n",
      "30001 iterations complete on training! E_in = 0.168033326743 E_out = 0.1697661857\n"
     ]
    },
    {
     "data": {
      "image/png": "[encoded data removed]",
      "text/plain": [
       "<matplotlib.figure.Figure at 0x7fe6624cdc18>"
      ]
     },
     "metadata": {},
     "output_type": "display_data"
    },
    {
     "name": "stdout",
     "output_type": "stream",
     "text": [
      "Epsilon = 0.00173285895675\n",
      "Estimating delta...\n",
      "Iteration 1 had epsilon = 0.00411179711946.\n",
      "Iteration 2 had epsilon = 0.00321152898116.\n",
      "Iteration 3 had epsilon = 0.00138941012067.\n",
      "Iteration 4 had epsilon = 0.000610055389149.\n",
      "Iteration 5 had epsilon = 0.00066670050025.\n",
      "Iteration 6 had epsilon = 0.00102136282878.\n",
      "Iteration 7 had epsilon = 0.000870947268179.\n",
      "Iteration 8 had epsilon = 1.84962975127e-05.\n",
      "Iteration 9 had epsilon = 0.000729252957446.\n",
      "Iteration 10 had epsilon = 0.00023405238986.\n",
      "Estimated delta = 0.2\n"
     ]
    }
   ],
   "source": [
    "########################################################################\n",
    "# experimento 1\n",
    "global features_size\n",
    "global output_size\n",
    "features_size = 784\n",
    "output_size = 10\n",
    "X = tf.placeholder (\"float\", [None, features_size], name = 'X')\n",
    "Y = tf.placeholder (\"float\", [None, output_size], name = 'Y')\n",
    "\n",
    "# Defines our model\n",
    "def createNN (hidden1_size, hidden2_size):\n",
    "        \"\"\" Creates a NN with 2 hidden layers.\n",
    "            There are 4 layers on total therefore  0 <= l < 4. \"\"\"\n",
    "        # dl = dimension of layer l\n",
    "        d0 = features_size\n",
    "        d1 = hidden1_size\n",
    "        d2 = hidden2_size\n",
    "        d3 = output_size\n",
    "        learning_rate = 0.001\n",
    "        \n",
    "        # Wl = matrix of weights of level (l - 1) => l\n",
    "        W1 = tf.Variable (tf.random_uniform ([d0, d1], -1, 1))\n",
    "        W2 = tf.Variable (tf.random_uniform ([d1, d2], -1, 1))\n",
    "        W3 = tf.Variable (tf.random_uniform ([d2, d3], -1, 1))\n",
    "        # bl = bias of level (l - 1) => l\n",
    "        b1 = tf.Variable (tf.random_uniform ([d1], -1, 1))\n",
    "        b2 = tf.Variable (tf.random_uniform ([d2], -1, 1))\n",
    "        b3 = tf.Variable (tf.random_uniform ([d3], -1, 1))\n",
    "        \n",
    "        \n",
    "        # sl = signal coming from level l\n",
    "        # xl = x that comes from level\n",
    "        # these represents the actual structure of the NN\n",
    "        x0 = X\n",
    "        s0 = tf.add (tf.matmul (x0, W1), b1)\n",
    "        x1 = tf.tanh (s0)\n",
    "        \n",
    "        s1 = tf.add (tf.matmul (x1, W2), b2)\n",
    "        x2 = tf.tanh (s1)\n",
    "        \n",
    "        s2 = tf.add (tf.matmul (x2, W3), b3)\n",
    "        h_y = tf.tanh (s2)\n",
    "        return h_y\n",
    "\n",
    "h_y = createNN (300, 100)\n",
    "cost = tf.reduce_mean (tf.square (Y - h_y))\n",
    "optimizer = tf.train.GradientDescentOptimizer (0.01).minimize (cost)\n",
    "\n",
    "init = tf.global_variables_initializer()\n",
    "sess = tf.Session ()\n",
    "sess.run (init)\n",
    "\n",
    "\n",
    "# Train model\n",
    "e_in_arr = []\n",
    "e_out_arr = []\n",
    "for i in range (35000):\n",
    "    features = np.empty ([1, features_size])\n",
    "    features[0, :] = data[i, 1:]\n",
    "    label = np.empty ([1, output_size])\n",
    "    label[0, :] = int_to_binary_arr (data[i, 0])\n",
    "    \n",
    "    # SGD iteration\n",
    "    _, err = sess.run ([optimizer, cost], {X: features, Y: label})\n",
    "    \n",
    "    if (i % 5000 == 0):\n",
    "        # Calculates e_in\n",
    "        e_in = avg_error (data[:i + 1, :], X, Y, cost)\n",
    "        e_in_arr.append (e_in)\n",
    "        \n",
    "        # Calculates e_out\n",
    "        e_out = avg_error (data[35000:, :], X, Y, cost)\n",
    "        e_out_arr.append (e_out)\n",
    "        \n",
    "        print (str (i + 1) + \" iterations complete on training!\" + \n",
    "               \" E_in = \" + str (e_in) + \n",
    "               \" E_out = \" + str (e_out))\n",
    "\n",
    "        \n",
    "# Plots learning curve\n",
    "labels_list = ['$E_{in}$', '$E_{out}$']\n",
    "erros_list = [e_in_arr, e_out_arr]\n",
    "plot_error (7, erros_list, labels_list)\n",
    "\n",
    "\n",
    "# Prints epsilon\n",
    "epsilon = abs (e_out_arr[-1] - e_in_arr[-1])\n",
    "print (\"Epsilon = \"  + str (epsilon))\n",
    "\n",
    "\n",
    "# Estimates delta\n",
    "print (\"Estimating delta...\")\n",
    "delta = .0\n",
    "for i in range (10):\n",
    "    sess.run (init)\n",
    "    training_set, validation_set = validation_partition (data, \n",
    "                                                         42000 - 7000)\n",
    "    \n",
    "    for j in range (training_set.shape[0]):\n",
    "        features = np.empty ([1, features_size])\n",
    "        features[0, :] = training_set[j, 1:]\n",
    "        label = np.empty ([1, output_size])\n",
    "        label[0, :] = int_to_binary_arr (training_set[j, 0])\n",
    "        # SGD iteration\n",
    "        sess.run (optimizer, {X: features, Y: label})\n",
    "    \n",
    "    e_in = avg_error (training_set, X, Y, cost)\n",
    "    e_out = avg_error (validation_set, X, Y, cost)\n",
    "    \n",
    "    if (abs (e_in - e_out) > epsilon):\n",
    "        delta += 1.\n",
    "    print (\"Iteration \" + str (i + 1) + \" had epsilon = \" +\n",
    "           str (abs (e_in - e_out)) + \".\")\n",
    "delta /= 10\n",
    "print (\"Estimated delta = \" + str (delta))"
   ]
  },
  {
   "cell_type": "markdown",
   "metadata": {},
   "source": [
    "Podemos observar que o modelo generaliza bem porque apresenta epsilon pequeno.\n",
    "\n",
    "O delta estimado foi alto, o que pode parecer significar que o modelo não generaliza bem na maioria dos casos. Porém, como o valor epsilon foi escolhido arbitrariamente o valor de delta não implica na generalização ruim do modelo. Inclusive, como pudemos observar acima, o epsilon utilizado era próximo de $10^{-3}$ e em todas as outras iterações o valor de $|E_{in} - E_{out}|$ foi menor do que $10^{-2}$, logo podemos confirmar que o modelo generaliza bem."
   ]
  },
  {
   "cell_type": "code",
   "execution_count": 4,
   "metadata": {
    "collapsed": false
   },
   "outputs": [
    {
     "name": "stdout",
     "output_type": "stream",
     "text": [
      "(42000, 197)\n"
     ]
    }
   ],
   "source": [
    "data_step1 = np.zeros ([42000, 197])\n",
    "data_step1[:, 0] = data[:, 0]\n",
    "for i in range (42000):\n",
    "    img_data = data[i, 1:]\n",
    "    img_data = img_data.reshape ([28, 28])\n",
    "    img_data = img_data[::2, ::2]\n",
    "    img_data = img_data.reshape ([196])\n",
    "    data_step1[i, 1:] = img_data\n",
    "print (data_step1.shape)"
   ]
  },
  {
   "cell_type": "code",
   "execution_count": 5,
   "metadata": {
    "collapsed": false
   },
   "outputs": [
    {
     "name": "stdout",
     "output_type": "stream",
     "text": [
      "1 iterations complete on training! E_in = 0.808229446411E_out = 0.972229955256\n",
      "5001 iterations complete on training! E_in = 0.733517547049E_out = 0.73752334566\n",
      "10001 iterations complete on training! E_in = 0.688359277519E_out = 0.689802183017\n",
      "15001 iterations complete on training! E_in = 0.599628988292E_out = 0.602357213712\n",
      "20001 iterations complete on training! E_in = 0.277660370188E_out = 0.279843175768\n",
      "25001 iterations complete on training! E_in = 0.213272912142E_out = 0.215702807898\n",
      "30001 iterations complete on training! E_in = 0.202111994201E_out = 0.204341406336\n"
     ]
    },
    {
     "data": {
      "image/png": "[encoded data removed]",
      "text/plain": [
       "<matplotlib.figure.Figure at 0x7fe665d82d68>"
      ]
     },
     "metadata": {},
     "output_type": "display_data"
    },
    {
     "name": "stdout",
     "output_type": "stream",
     "text": [
      "Epsilon = 0.00222941213483\n",
      "Estimating delta...\n",
      "Iteration 1 had epsilon = 0.00132236327699.\n",
      "Iteration 2 had epsilon = 0.0017591991101.\n",
      "Iteration 3 had epsilon = 0.000493348314932.\n",
      "Iteration 4 had epsilon = 0.00210935756607.\n",
      "Iteration 5 had epsilon = 0.000706084225859.\n",
      "Iteration 6 had epsilon = 0.00391787826419.\n",
      "Iteration 7 had epsilon = 0.00211309919102.\n",
      "Iteration 8 had epsilon = 0.000144756487863.\n",
      "Iteration 9 had epsilon = 4.81993360179e-05.\n",
      "Iteration 10 had epsilon = 0.00137380788028.\n",
      "Estimated delta = 0.1\n"
     ]
    }
   ],
   "source": [
    "features_size = 196\n",
    "output_size = 10\n",
    "X = tf.placeholder (\"float\", [None, features_size], name = 'X')\n",
    "Y = tf.placeholder (\"float\", [None, output_size], name = 'Y')\n",
    "\n",
    "# Defines our model\n",
    "def createNN (hidden1_size, hidden2_size):\n",
    "        \"\"\" Creates a NN with 2 hidden layers.\n",
    "            There are 4 layers on total therefore  0 <= l < 4. \"\"\"\n",
    "        # dl = dimension of layer l\n",
    "        d0 = features_size\n",
    "        d1 = hidden1_size\n",
    "        d2 = hidden2_size\n",
    "        d3 = output_size\n",
    "        learning_rate = 0.001\n",
    "        \n",
    "        # Wl = matrix of weights of level (l - 1) => l\n",
    "        W1 = tf.Variable (tf.random_uniform ([d0, d1], -1, 1))\n",
    "        W2 = tf.Variable (tf.random_uniform ([d1, d2], -1, 1))\n",
    "        W3 = tf.Variable (tf.random_uniform ([d2, d3], -1, 1))\n",
    "        # bl = bias of level (l - 1) => l\n",
    "        b1 = tf.Variable (tf.random_uniform ([d1], -1, 1))\n",
    "        b2 = tf.Variable (tf.random_uniform ([d2], -1, 1))\n",
    "        b3 = tf.Variable (tf.random_uniform ([d3], -1, 1))\n",
    "        \n",
    "        \n",
    "        # sl = signal coming from level l\n",
    "        # xl = x that comes from level\n",
    "        # these represents the actual structure of the NN\n",
    "        x0 = X\n",
    "        s0 = tf.add (tf.matmul (x0, W1), b1)\n",
    "        x1 = tf.tanh (s0)\n",
    "        \n",
    "        s1 = tf.add (tf.matmul (x1, W2), b2)\n",
    "        x2 = tf.tanh (s1)\n",
    "        \n",
    "        s2 = tf.add (tf.matmul (x2, W3), b3)\n",
    "        h_y = tf.tanh (s2)\n",
    "        return h_y\n",
    "\n",
    "h_y = createNN (300, 100)\n",
    "cost = tf.reduce_mean (tf.square (Y - h_y))\n",
    "optimizer = tf.train.GradientDescentOptimizer (0.01).minimize (cost)\n",
    "\n",
    "init = tf.global_variables_initializer()\n",
    "sess = tf.Session ()\n",
    "sess.run (init)\n",
    "\n",
    "\n",
    "# Train model\n",
    "e_in_arr = []\n",
    "e_out_arr = []\n",
    "for i in range (35000):\n",
    "    features = np.empty ([1, features_size])\n",
    "    features[0, :] = data_step1[i, 1:]\n",
    "    label = np.empty ([1, output_size])\n",
    "    label[0, :] = int_to_binary_arr (data_step1[i, 0])\n",
    "    \n",
    "    # SGD iteration\n",
    "    _, err = sess.run ([optimizer, cost], {X: features, Y: label})\n",
    "    \n",
    "    if (i % 5000 == 0):\n",
    "        # Calculates e_in\n",
    "        e_in = avg_error (data_step1[:i + 1, :], X, Y, cost)\n",
    "        e_in_arr.append (e_in)\n",
    "        \n",
    "        # Calculates e_out\n",
    "        e_out = avg_error (data_step1[35000:, :], X, Y, cost)\n",
    "        e_out_arr.append (e_out)\n",
    "        \n",
    "        print (str (i + 1) + \" iterations complete on training! \" + \n",
    "               \"E_in = \" + str (e_in) + \n",
    "               \"E_out = \" + str (e_out))\n",
    "\n",
    "        \n",
    "# Plots learning curve\n",
    "labels_list = ['$E_{in}$', '$E_{out}$']\n",
    "erros_list = [e_in_arr, e_out_arr]\n",
    "plot_error (7, erros_list, labels_list)\n",
    "\n",
    "\n",
    "# Prints epsilon\n",
    "epsilon = abs (e_out_arr[-1] - e_in_arr[-1])\n",
    "print (\"Epsilon = \"  + str (epsilon))\n",
    "\n",
    "\n",
    "# Estimates delta\n",
    "print (\"Estimating delta...\")\n",
    "delta = .0\n",
    "for i in range (10):\n",
    "    sess.run (init)\n",
    "    training_set, validation_set = validation_partition (data_step1, \n",
    "                                                         42000 - 7000)\n",
    "    \n",
    "    for j in range (training_set.shape[0]):\n",
    "        features = np.empty ([1, features_size])\n",
    "        features[0, :] = training_set[j, 1:]\n",
    "        label = np.empty ([1, output_size])\n",
    "        label[0, :] = int_to_binary_arr (training_set[j, 0])\n",
    "        # SGD iteration\n",
    "        sess.run (optimizer, {X: features, Y: label})\n",
    "    \n",
    "    e_in = avg_error (training_set, X, Y, cost)\n",
    "    e_out = avg_error (validation_set, X, Y, cost)\n",
    "    \n",
    "    if (abs (e_in - e_out) > epsilon):\n",
    "        delta += 1.\n",
    "    print (\"Iteration \" + str (i + 1) + \" had epsilon = \" +\n",
    "           str (abs (e_in - e_out)) + \".\")\n",
    "delta /= 10\n",
    "print (\"Estimated delta = \" + str (delta))"
   ]
  },
  {
   "cell_type": "code",
   "execution_count": 6,
   "metadata": {
    "collapsed": false
   },
   "outputs": [
    {
     "name": "stdout",
     "output_type": "stream",
     "text": [
      "(42000, 50)\n"
     ]
    }
   ],
   "source": [
    "data_step2 = np.zeros ([42000, 50])\n",
    "data_step2[:, 0] = data[:, 0]\n",
    "for i in range (42000):\n",
    "    img_data = data[i, 1:]\n",
    "    img_data = img_data.reshape ([28, 28])\n",
    "    img_data = img_data[::4, ::4]\n",
    "    img_data = img_data.reshape ([49])\n",
    "    data_step2[i, 1:] = img_data\n",
    "print (data_step2.shape)"
   ]
  },
  {
   "cell_type": "code",
   "execution_count": 7,
   "metadata": {
    "collapsed": false
   },
   "outputs": [
    {
     "name": "stdout",
     "output_type": "stream",
     "text": [
      "1 iterations complete on training! E_in = 1.2189874649E_out = 1.03956386292\n",
      "5001 iterations complete on training! E_in = 0.736327148722E_out = 0.735583555537\n",
      "10001 iterations complete on training! E_in = 0.722064116774E_out = 0.72157804378\n",
      "15001 iterations complete on training! E_in = 0.690192912212E_out = 0.692730504606\n",
      "20001 iterations complete on training! E_in = 0.644099038968E_out = 0.64372328377\n",
      "25001 iterations complete on training! E_in = 0.565946271365E_out = 0.567801461907\n",
      "30001 iterations complete on training! E_in = 0.390523499644E_out = 0.389799746369\n"
     ]
    },
    {
     "data": {
      "image/png": "[encoded data removed]",
      "text/plain": [
       "<matplotlib.figure.Figure at 0x7fe665f28a58>"
      ]
     },
     "metadata": {},
     "output_type": "display_data"
    },
    {
     "name": "stdout",
     "output_type": "stream",
     "text": [
      "Epsilon = 0.000723753275333\n",
      "Estimating delta...\n",
      "Iteration 1 had epsilon = 0.000550837683252.\n",
      "Iteration 2 had epsilon = 0.000668155880911.\n",
      "Iteration 3 had epsilon = 0.00098448761957.\n",
      "Iteration 4 had epsilon = 0.000963232138753.\n",
      "Iteration 5 had epsilon = 0.000599824082851.\n",
      "Iteration 6 had epsilon = 0.00256901396598.\n",
      "Iteration 7 had epsilon = 0.00137200701662.\n",
      "Iteration 8 had epsilon = 0.0024181090257.\n",
      "Iteration 9 had epsilon = 0.000721080478174.\n",
      "Iteration 10 had epsilon = 0.00211633569811.\n",
      "Estimated delta = 0.6\n"
     ]
    }
   ],
   "source": [
    "features_size = 49\n",
    "output_size = 10\n",
    "X = tf.placeholder (\"float\", [None, features_size], name = 'X')\n",
    "Y = tf.placeholder (\"float\", [None, output_size], name = 'Y')\n",
    "\n",
    "# Defines our model\n",
    "def createNN (hidden1_size, hidden2_size):\n",
    "        \"\"\" Creates a NN with 2 hidden layers.\n",
    "            There are 4 layers on total therefore  0 <= l < 4. \"\"\"\n",
    "        # dl = dimension of layer l\n",
    "        d0 = features_size\n",
    "        d1 = hidden1_size\n",
    "        d2 = hidden2_size\n",
    "        d3 = output_size\n",
    "        learning_rate = 0.001\n",
    "        \n",
    "        # Wl = matrix of weights of level (l - 1) => l\n",
    "        W1 = tf.Variable (tf.random_uniform ([d0, d1], -1, 1))\n",
    "        W2 = tf.Variable (tf.random_uniform ([d1, d2], -1, 1))\n",
    "        W3 = tf.Variable (tf.random_uniform ([d2, d3], -1, 1))\n",
    "        # bl = bias of level (l - 1) => l\n",
    "        b1 = tf.Variable (tf.random_uniform ([d1], -1, 1))\n",
    "        b2 = tf.Variable (tf.random_uniform ([d2], -1, 1))\n",
    "        b3 = tf.Variable (tf.random_uniform ([d3], -1, 1))\n",
    "        \n",
    "        \n",
    "        # sl = signal coming from level l\n",
    "        # xl = x that comes from level\n",
    "        # these represents the actual structure of the NN\n",
    "        x0 = X\n",
    "        s0 = tf.add (tf.matmul (x0, W1), b1)\n",
    "        x1 = tf.tanh (s0)\n",
    "        \n",
    "        s1 = tf.add (tf.matmul (x1, W2), b2)\n",
    "        x2 = tf.tanh (s1)\n",
    "        \n",
    "        s2 = tf.add (tf.matmul (x2, W3), b3)\n",
    "        h_y = tf.tanh (s2)\n",
    "        return h_y\n",
    "\n",
    "h_y = createNN (300, 100)\n",
    "cost = tf.reduce_mean (tf.square (Y - h_y))\n",
    "optimizer = tf.train.GradientDescentOptimizer (0.01).minimize (cost)\n",
    "\n",
    "init = tf.global_variables_initializer()\n",
    "sess = tf.Session ()\n",
    "sess.run (init)\n",
    "\n",
    "\n",
    "# Train model\n",
    "e_in_arr = []\n",
    "e_out_arr = []\n",
    "for i in range (35000):\n",
    "    features = np.empty ([1, features_size])\n",
    "    features[0, :] = data_step2[i, 1:]\n",
    "    label = np.empty ([1, output_size])\n",
    "    label[0, :] = int_to_binary_arr (data_step2[i, 0])\n",
    "    \n",
    "    # SGD iteration\n",
    "    _, err = sess.run ([optimizer, cost], {X: features, Y: label})\n",
    "    \n",
    "    if (i % 5000 == 0):\n",
    "        # Calculates e_in\n",
    "        e_in = avg_error (data_step2[:i + 1, :], X, Y, cost)\n",
    "        e_in_arr.append (e_in)\n",
    "        \n",
    "        # Calculates e_out\n",
    "        e_out = avg_error (data_step2[35000:, :], X, Y, cost)\n",
    "        e_out_arr.append (e_out)\n",
    "        \n",
    "        print (str (i + 1) + \" iterations complete on training! \" + \n",
    "               \"E_in = \" + str (e_in) + \n",
    "               \"E_out = \" + str (e_out))\n",
    "\n",
    "        \n",
    "# Plots learning curve\n",
    "labels_list = ['$E_{in}$', '$E_{out}$']\n",
    "erros_list = [e_in_arr, e_out_arr]\n",
    "plot_error (7, erros_list, labels_list)\n",
    "\n",
    "\n",
    "# Prints epsilon\n",
    "epsilon = abs (e_out_arr[-1] - e_in_arr[-1])\n",
    "print (\"Epsilon = \"  + str (epsilon))\n",
    "\n",
    "\n",
    "# Estimates delta\n",
    "print (\"Estimating delta...\")\n",
    "delta = .0\n",
    "for i in range (10):\n",
    "    sess.run (init)\n",
    "    training_set, validation_set = validation_partition (data_step2, \n",
    "                                                         42000 - 7000)\n",
    "    \n",
    "    for j in range (training_set.shape[0]):\n",
    "        features = np.empty ([1, features_size])\n",
    "        features[0, :] = training_set[j, 1:]\n",
    "        label = np.empty ([1, output_size])\n",
    "        label[0, :] = int_to_binary_arr (training_set[j, 0])\n",
    "        # SGD iteration\n",
    "        sess.run (optimizer, {X: features, Y: label})\n",
    "    \n",
    "    e_in = avg_error (training_set, X, Y, cost)\n",
    "    e_out = avg_error (validation_set, X, Y, cost)\n",
    "    \n",
    "    if (abs (e_in - e_out) > epsilon):\n",
    "        delta += 1.\n",
    "    print (\"Iteration \" + str (i + 1) + \" had epsilon = \" +\n",
    "           str (abs (e_in - e_out)) + \".\")\n",
    "delta /= 10\n",
    "print (\"Estimated delta = \" + str (delta))"
   ]
  },
  {
   "cell_type": "code",
   "execution_count": 21,
   "metadata": {
    "collapsed": false
   },
   "outputs": [
    {
     "name": "stdout",
     "output_type": "stream",
     "text": [
      "Label:  7\n"
     ]
    },
    {
     "data": {
      "image/png": "[encoded data removed]",
      "text/plain": [
       "<matplotlib.figure.Figure at 0x7f403c968c18>"
      ]
     },
     "metadata": {},
     "output_type": "display_data"
    },
    {
     "name": "stdout",
     "output_type": "stream",
     "text": [
      "Label:  1\n"
     ]
    },
    {
     "data": {
      "image/png": "[encoded data removed]",
      "text/plain": [
       "<matplotlib.figure.Figure at 0x7f40410a63c8>"
      ]
     },
     "metadata": {},
     "output_type": "display_data"
    },
    {
     "name": "stdout",
     "output_type": "stream",
     "text": [
      "Label:  5\n"
     ]
    },
    {
     "data": {
      "image/png": "[encoded data removed]",
      "text/plain": [
       "<matplotlib.figure.Figure at 0x7f403c465e10>"
      ]
     },
     "metadata": {},
     "output_type": "display_data"
    }
   ],
   "source": [
    "sample = data[0]\n",
    "print(\"Label: \", sample[0])\n",
    "plt.imshow(sample[1:].reshape((28,28)), cmap='gray')\n",
    "plt.show()\n",
    "\n",
    "sample = data[1]\n",
    "print(\"Label: \", sample[0])\n",
    "plt.imshow(sample[1:].reshape((28,28)), cmap='gray')\n",
    "plt.show()\n",
    "\n",
    "sample = data[20]\n",
    "print(\"Label: \", sample[0])\n",
    "plt.imshow(sample[1:].reshape((28,28)), cmap='gray')\n",
    "plt.show()"
   ]
  },
  {
   "cell_type": "markdown",
   "metadata": {
    "collapsed": true
   },
   "source": [
    "Q2. O método de aprendizado adotado na questão anterior inclui regularização? Caso afirmativo, como? Caso negativo, como formularia a inclusão da regularização e porque esse procedimento melhoraria o resultado?"
   ]
  },
  {
   "cell_type": "code",
   "execution_count": null,
   "metadata": {
    "collapsed": true
   },
   "outputs": [],
   "source": []
  }
 ],
 "metadata": {
  "kernelspec": {
   "display_name": "Python 3",
   "language": "python",
   "name": "python3"
  },
  "language_info": {
   "codemirror_mode": {
    "name": "ipython",
    "version": 3
   },
   "file_extension": ".py",
   "mimetype": "text/x-python",
   "name": "python",
   "nbconvert_exporter": "python",
   "pygments_lexer": "ipython3",
   "version": "3.6.0"
  }
 },
 "nbformat": 4,
 "nbformat_minor": 2
}
