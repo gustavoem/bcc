{
 "cells": [
  {
   "cell_type": "markdown",
   "metadata": {
    "toc": "true"
   },
   "source": [
    "# Table of Contents\n",
    " <p><div class=\"lev1 toc-item\"><a href=\"#Introdução-ao-NumPy\" data-toc-modified-id=\"Introdução-ao-NumPy-1\"><span class=\"toc-item-num\">1&nbsp;&nbsp;</span>Introdução ao NumPy</a></div><div class=\"lev2 toc-item\"><a href=\"#O-tipo-ndarray\" data-toc-modified-id=\"O-tipo-ndarray-11\"><span class=\"toc-item-num\">1.1&nbsp;&nbsp;</span>O tipo ndarray</a></div><div class=\"lev1 toc-item\"><a href=\"#Manipulação-de-arrays\" data-toc-modified-id=\"Manipulação-de-arrays-2\"><span class=\"toc-item-num\">2&nbsp;&nbsp;</span>Manipulação de arrays</a></div><div class=\"lev2 toc-item\"><a href=\"#Criando-arrays-inicializados\" data-toc-modified-id=\"Criando-arrays-inicializados-21\"><span class=\"toc-item-num\">2.1&nbsp;&nbsp;</span>Criando arrays inicializados</a></div><div class=\"lev2 toc-item\"><a href=\"#Criando-arrays-com-valores-sequenciais\" data-toc-modified-id=\"Criando-arrays-com-valores-sequenciais-22\"><span class=\"toc-item-num\">2.2&nbsp;&nbsp;</span>Criando arrays com valores sequenciais</a></div><div class=\"lev2 toc-item\"><a href=\"#Documentação-Oficial-Numpy\" data-toc-modified-id=\"Documentação-Oficial-Numpy-23\"><span class=\"toc-item-num\">2.3&nbsp;&nbsp;</span>Documentação Oficial Numpy</a></div>"
   ]
  },
  {
   "cell_type": "markdown",
   "metadata": {},
   "source": [
    "# Introdução ao NumPy\n",
    "\n",
    "## O tipo ndarray\n",
    "\n",
    "O tipo ndarray, ou apenas array é um arranjo de itens homogêneos de dimensionalidade N, indexados por uma tupla de N inteiros. Existem 3 informações essenciais associadas ao ndarray: o tipo dos dados, suas dimensões e seus dados em si. A propriedade dtype permite saber o tipo de dados enquanto que shape é uma tupla que indica o tamanho de cada dimensão do arranjo. O acesso aos dados em si deve ser feito por indexação, por fatiamento ou pela variável em si.\n",
    "\n",
    "Existem várias maneiras de criar uma variável do tipo ndarray. Por exemplo, é possível criar uma a partir de uma lista (1D) ou lista de listas usando a função array. O tipo de matriz resultante é deduzida a partir do tipo de elementos nas sequências.\n",
    "\n",
    "Veja a seguir um vetor de inteiros com 5 elementos. Note que o vetor é uma linha com 5 colunas. Observe também que o shape é uma tupla de um único elemento (veja a vírgula que aparece por ser uma tupla)."
   ]
  },
  {
   "cell_type": "code",
   "execution_count": 3,
   "metadata": {
    "collapsed": false
   },
   "outputs": [
    {
     "name": "stdout",
     "output_type": "stream",
     "text": [
      "Dimensões: a.shape= (7,)\n",
      "Tipo dos elementos: a.dtype= uint8\n",
      "Imprimindo o array completo:\n",
      " a= [  2   3   4 255 254   0  14]\n",
      "255\n",
      "uint8\n",
      "[0 0 0 1 0 0 0]\n"
     ]
    }
   ],
   "source": [
    "import numpy as np\n",
    "a = np.array( [2,3,4,-1,-2,256, 270] ,'uint8')\n",
    "print ('Dimensões: a.shape=', a.shape)\n",
    "print ('Tipo dos elementos: a.dtype=', a.dtype)\n",
    "print ('Imprimindo o array completo:\\n a=',a)\n",
    "m = a.max()\n",
    "print(m)\n",
    "print(m.dtype)\n",
    "b = a//a.max()\n",
    "print (b)"
   ]
  },
  {
   "cell_type": "markdown",
   "metadata": {},
   "source": [
    "Veja a seguir uma matriz bidimensional de dados ponto flutuante de 2 linhas e 3 colunas. Observe que a tupla do shape aumenta para a esquerda, isto é, se eu tiver um vetor de 3 elementos, o seu shape é (3,) e se uma nova dimensão for adicionada, por exemplo 2 linhas e 3 colunas, o shape passa a ser (3,2). O que antes shape[0] no vetor unidimensional era colunas, já na matrix bidimension shape[0] passou a ser o número de linhas. Assim o último elemento da tupla do shape indica o número de colunas, a penúltima o número de linhas. Assim se quisermos sempre buscar o número de colunas, independentemente do número de dimensões, shape[-1] informa sempre o número de colunas, shape[-2], o número de linhas."
   ]
  },
  {
   "cell_type": "code",
   "execution_count": 2,
   "metadata": {
    "collapsed": false
   },
   "outputs": [
    {
     "name": "stdout",
     "output_type": "stream",
     "text": [
      "Um array bidimensional, dimensões: b.shape= (2, 1, 3)\n",
      "Tipo dos elementos: b.dtype float64\n",
      "Número de colunas: 3\n",
      "Número de linhas: 1\n",
      "Elementos, b=\n",
      " [[[ 1.5  2.3  5.2]]\n",
      "\n",
      " [[ 4.2  5.6  4.4]]]\n"
     ]
    }
   ],
   "source": [
    "b = np.array( [ [[1.5, 2.3, 5.2]],\n",
    "                [[4.2, 5.6, 4.4]]] )\n",
    "print ('Um array bidimensional, dimensões: b.shape=', b.shape)\n",
    "print ('Tipo dos elementos: b.dtype', b.dtype)\n",
    "print ('Número de colunas:', b.shape[-1])\n",
    "print ('Número de linhas:', b.shape[-2])\n",
    "print ('Elementos, b=\\n', b)"
   ]
  },
  {
   "cell_type": "markdown",
   "metadata": {},
   "source": [
    "# Manipulação de arrays\n",
    "\n",
    "## Criando arrays inicializados\n",
    "\n",
    "É possível criar arrays de zeros, uns ou valores não inicializados usando as funções zeros, ones ou empty. As dimensões do array são obrigatórias e é dado por uma tupla e o tipo dos elementos é opcional, sendo que o default é tipo float.\n",
    "\n",
    "O código a seguir cria 3 arrays. O primeiro possui 2 linhas e 4 colunas. O segundo tem 3 dimensões: 3 fatias (ou imagens) onde cada uma tem 2 linhas e 5 colunas. Por último, é criado uma matriz booleana (True e False) de valores não inicializados de 2 linhas e 3 colunas. A vantagem do empty é que ele é mais rápido que o zeros ou ones. No caso abaixo, os valores mostrados na matrix criada pelo empty são aleatórios."
   ]
  },
  {
   "cell_type": "code",
   "execution_count": 4,
   "metadata": {
    "collapsed": false
   },
   "outputs": [
    {
     "name": "stdout",
     "output_type": "stream",
     "text": [
      "Array de 0s: \n",
      " [[ 0.  0.  0.  0.]\n",
      " [ 0.  0.  0.  0.]]\n",
      "\n",
      "\n",
      "Array de 1s: \n",
      " [[[1 1 1 1 1]\n",
      "  [1 1 1 1 1]]\n",
      "\n",
      " [[1 1 1 1 1]\n",
      "  [1 1 1 1 1]]\n",
      "\n",
      " [[1 1 1 1 1]\n",
      "  [1 1 1 1 1]]]\n",
      "Array não inicializado (valor é indeterminado):\n",
      " [[0 0 0]\n",
      " [0 0 0]]\n"
     ]
    }
   ],
   "source": [
    "d = np.zeros( (2,4) )\n",
    "print ('Array de 0s: \\n', d)\n",
    "\n",
    "d = np.ones( (3,2,5), dtype='int16' )\n",
    "print ('\\n\\nArray de 1s: \\n', d)\n",
    "\n",
    "d = np.empty( (2,3), 'int' )\n",
    "print ('Array não inicializado (valor é indeterminado):\\n', d)"
   ]
  },
  {
   "cell_type": "code",
   "execution_count": 28,
   "metadata": {
    "collapsed": false
   },
   "outputs": [
    {
     "name": "stdout",
     "output_type": "stream",
     "text": [
      "100 loops, best of 3: 2.82 ms per loop\n"
     ]
    }
   ],
   "source": [
    "%timeit a = np.zeros((1000000,))"
   ]
  },
  {
   "cell_type": "code",
   "execution_count": 27,
   "metadata": {
    "collapsed": false
   },
   "outputs": [
    {
     "name": "stdout",
     "output_type": "stream",
     "text": [
      "1000 loops, best of 3: 716 µs per loop\n"
     ]
    }
   ],
   "source": [
    "%timeit a = np.empty((1000000,))"
   ]
  },
  {
   "cell_type": "markdown",
   "metadata": {},
   "source": [
    "Note que o Numpy permite arrays n-dimensionais. Em imagens em níveis de cinza iremos trabalhar com matrizes bidimensionais mas se a imagem for colorida, iremos representá-la em 3 canais, R, G e B, representados na estrutura com 3 dimensões. Se for um vídeo, isto é, uma sequência de imagens, teremos que adicionar mais uma dimensão. Se for uma tomografia, também podemos representar em 3 dimensões: largura, altura e profundidade."
   ]
  },
  {
   "cell_type": "markdown",
   "metadata": {},
   "source": [
    "## Criando arrays com valores sequenciais\n",
    "\n",
    "As funções arange e linspace geram um vetor sequencial. Eles diferem apenas nos parâmetros. Enquanto o arange gera uma sequência a partir dos valores inicial (includente e opcional), final( excludente) e passo (opcional), linspace gera uma sequência com valores inicial e final e número de elementos. Note as diferenças nos exemplos a seguir:"
   ]
  },
  {
   "cell_type": "code",
   "execution_count": 5,
   "metadata": {
    "collapsed": false
   },
   "outputs": [
    {
     "name": "stdout",
     "output_type": "stream",
     "text": [
      "np.arange (10) =  [0 1 2 3 4 5 6 7 8 9]\n",
      "np.arange (3, 8) =  [3 4 5 6 7]\n",
      "np.arange (0, 2, 0.5) =  [ 0.   0.5  1.   1.5]\n",
      "np.linspace (0, 2, 5) =  [ 0.   0.5  1.   1.5  2. ]\n"
     ]
    }
   ],
   "source": [
    "print('np.arange (10) = ', np.arange(10))\n",
    "print('np.arange (3, 8) = ', np.arange(3,8))\n",
    "print('np.arange (0, 2, 0.5) = ', np.arange(0, 2, 0.5))\n",
    "print('np.linspace (0, 2, 5) = ', np.linspace( 0, 2, 5 ))"
   ]
  },
  {
   "cell_type": "markdown",
   "metadata": {},
   "source": [
    "Veja que no último caso, usando o linspace, a sequência começa em 0 e termina em 2 e deve possuir 5 elementos. Veja que para isto o passo a ser utilizado será 0.5, calculado automaticamente. Já no exemplo anterior, a sequência começa em 0 e deve terminar antes de 2 e o passo é 0.5.\n",
    "\n",
    "## Documentação Oficial Numpy\n",
    "\n",
    "- [Scipy:numpy array](https://docs.scipy.org/doc/numpy/reference/generated/numpy.array.html)"
   ]
  }
 ],
 "metadata": {
  "kernelspec": {
   "display_name": "Python 3",
   "language": "python",
   "name": "python3"
  },
  "language_info": {
   "codemirror_mode": {
    "name": "ipython",
    "version": 3
   },
   "file_extension": ".py",
   "mimetype": "text/x-python",
   "name": "python",
   "nbconvert_exporter": "python",
   "pygments_lexer": "ipython3",
   "version": "3.6.0"
  },
  "toc": {
   "colors": {
    "hover_highlight": "#DAA520",
    "running_highlight": "#FF0000",
    "selected_highlight": "#FFD700"
   },
   "moveMenuLeft": true,
   "nav_menu": {
    "height": "65px",
    "width": "252px"
   },
   "navigate_menu": true,
   "number_sections": true,
   "sideBar": true,
   "threshold": 4,
   "toc_cell": true,
   "toc_section_display": "block",
   "toc_window_display": false
  }
 },
 "nbformat": 4,
 "nbformat_minor": 2
}
