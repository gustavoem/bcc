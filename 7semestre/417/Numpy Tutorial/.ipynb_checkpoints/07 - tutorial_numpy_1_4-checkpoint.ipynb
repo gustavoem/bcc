{
 "cells": [
  {
   "cell_type": "markdown",
   "metadata": {
    "toc": "true"
   },
   "source": [
    "# Table of Contents\n",
    " <p><div class=\"lev1 toc-item\"><a href=\"#Introdução-ao-Numpy\" data-toc-modified-id=\"Introdução-ao-Numpy-1\"><span class=\"toc-item-num\">1&nbsp;&nbsp;</span>Introdução ao Numpy</a></div><div class=\"lev2 toc-item\"><a href=\"#Copiando-variáveis-ndarray\" data-toc-modified-id=\"Copiando-variáveis-ndarray-11\"><span class=\"toc-item-num\">1.1&nbsp;&nbsp;</span>Copiando variáveis <code>ndarray</code></a></div><div class=\"lev2 toc-item\"><a href=\"#Sem-cópia-explícita,-apenas-referência\" data-toc-modified-id=\"Sem-cópia-explícita,-apenas-referência-12\"><span class=\"toc-item-num\">1.2&nbsp;&nbsp;</span>Sem cópia explícita, apenas referência</a></div><div class=\"lev2 toc-item\"><a href=\"#Cópia-rasa\" data-toc-modified-id=\"Cópia-rasa-13\"><span class=\"toc-item-num\">1.3&nbsp;&nbsp;</span>Cópia rasa</a></div><div class=\"lev2 toc-item\"><a href=\"#Reshape\" data-toc-modified-id=\"Reshape-14\"><span class=\"toc-item-num\">1.4&nbsp;&nbsp;</span>Reshape</a></div><div class=\"lev2 toc-item\"><a href=\"#Slice---Fatiamento\" data-toc-modified-id=\"Slice---Fatiamento-15\"><span class=\"toc-item-num\">1.5&nbsp;&nbsp;</span>Slice - Fatiamento</a></div><div class=\"lev2 toc-item\"><a href=\"#Transposto\" data-toc-modified-id=\"Transposto-16\"><span class=\"toc-item-num\">1.6&nbsp;&nbsp;</span>Transposto</a></div><div class=\"lev2 toc-item\"><a href=\"#Ravel\" data-toc-modified-id=\"Ravel-17\"><span class=\"toc-item-num\">1.7&nbsp;&nbsp;</span>Ravel</a></div><div class=\"lev2 toc-item\"><a href=\"#Cópia-profunda\" data-toc-modified-id=\"Cópia-profunda-18\"><span class=\"toc-item-num\">1.8&nbsp;&nbsp;</span>Cópia profunda</a></div><div class=\"lev2 toc-item\"><a href=\"#Documentação-Oficial-Numpy\" data-toc-modified-id=\"Documentação-Oficial-Numpy-19\"><span class=\"toc-item-num\">1.9&nbsp;&nbsp;</span>Documentação Oficial Numpy</a></div>"
   ]
  },
  {
   "cell_type": "markdown",
   "metadata": {},
   "source": [
    "# Introdução ao Numpy\n",
    "   \n",
    "## Copiando variáveis ``ndarray``\n",
    "\n",
    "O ``ndarray`` foi projetado para acesso otimizado a uma grande quantidade de dados. Neste sentido, os conceitos\n",
    "descritos a seguir sobre as três formas de cópias entre variáveis ditas sem cópia, cópia rasa (*shallow*) e\n",
    "cópia profunda (*deep*) são fundamentais para uma codificação eficiente. Podemos dizer que um ``ndarray`` possui\n",
    "o cabeçalho que contém dados pelas informações sobre o tipo do elemento, a dimensionalidade (``shape``) e \n",
    "passo ou deslocamento para o próximo elemento (``strides``) e os dados raster em si. A tabela\n",
    "a seguir mostra a situação do cabeçalho e dos dados nos três tipos de cópias.\n",
    "\n",
    "\n",
    "Tipo                   |Cabeçalho: Type, Shape, Strides|   Dados raster   |Exemplo\n",
    "-----------------------|-------------------------------|------------------|---------------------------\n",
    "Sem cópia, apenas ref  |apontador original             |apontador original|a = b\n",
    "Cópia rasa             |novo                           |apontador original|b = a.reshape, slicing, a.T\n",
    "Cópia profunda         |novo                           |novo              |a = b.copy()\n",
    "\n",
    "\n",
    "## Sem cópia explícita, apenas referência\n",
    "\n",
    "No caso abaixo, usaremos o comando normal de igual como atribuição do array ``a`` para o array ``b``.\n",
    "Verifica-se que tanto o shape como os dados de ``b`` são os mesmos de ``a``. Tudo se passa como ``b``\n",
    "fosse apenas um apontador para ``a``. Qualquer modificação em ``b`` é refletida em ``a``. \n",
    "   "
   ]
  },
  {
   "cell_type": "code",
   "execution_count": 1,
   "metadata": {
    "collapsed": false
   },
   "outputs": [
    {
     "name": "stdout",
     "output_type": "stream",
     "text": [
      "a =\n",
      " [0 1 2 3 4 5]\n",
      "b =\n",
      " [0 1 2 3 4 5]\n",
      "\n",
      "a shape = (2, 3)\n",
      "a =\n",
      " [[-1  1  2]\n",
      " [ 3  4  5]]\n",
      "\n",
      "id de a =  140698330197248\n",
      "id de b =  140698330197248\n",
      "np.may_share_memory(a,b): True\n"
     ]
    }
   ],
   "source": [
    "import numpy as np\n",
    "    \n",
    "a = np.arange(6) \n",
    "b = a\n",
    "print(\"a =\\n\",a)\n",
    "print(\"b =\\n\",b)\n",
    "b.shape = (2,3)                           # mudança no shape de b,\n",
    "print(\"\\na shape =\",a.shape)               # altera o shape de a\n",
    "\n",
    "b[0,0] = -1                               # mudança no conteúdo de b\n",
    "print(\"a =\\n\",a)                             # altera o conteudo de a  \n",
    "\n",
    "print(\"\\nid de a = \",id(a))                # id é um identificador único de objeto\n",
    "print(\"id de b = \",id(b))                  # a e b possuem o mesmo id\n",
    "\n",
    "print('np.may_share_memory(a,b):',np.may_share_memory(a,b))"
   ]
  },
  {
   "cell_type": "markdown",
   "metadata": {},
   "source": [
    "Observe que mesmo no retorno de uma função, a cópia explícita pode não acontecer. Veja o exemplo a\n",
    "seguir de uma função que apenas retorna a variável de entrada:"
   ]
  },
  {
   "cell_type": "code",
   "execution_count": 2,
   "metadata": {
    "collapsed": false
   },
   "outputs": [
    {
     "name": "stdout",
     "output_type": "stream",
     "text": [
      "id de a =  140698330197248\n",
      "id de b =  140698330197248\n",
      "np.may_share_memory(a,b): True\n"
     ]
    }
   ],
   "source": [
    "def cc(a):\n",
    "  return a\n",
    "\n",
    "b = cc(a)\n",
    "print(\"id de a = \",id(a))\n",
    "print(\"id de b = \",id(b))\n",
    "print('np.may_share_memory(a,b):',np.may_share_memory(a,b))"
   ]
  },
  {
   "cell_type": "markdown",
   "metadata": {},
   "source": [
    "## Cópia rasa\n",
    "\n",
    "A cópia rasa é muito útil e extensivamente utilizada. É usada quando se quer indexar o array original \n",
    "através da mudança de dimensionalidade ou do \n",
    "refatiamento, porém sem a necessidade de realizar uma cópia dos dados raster. Desta forma consegue-se\n",
    "uma otimização no acesso ao array n-dimensional. Existem várias formas onde a cópia rasa acontece,\n",
    "sendo as principais:\n",
    "\n",
    "1) no caso do ``reshape`` onde o número de elementos do ``ndarray`` é o mesmo, porém sua dimensionalidade\n",
    "é alterada; \n",
    "2) no caso de fatiamento onde um subarray é indexado; \n",
    "3) no caso de transposição do array;\n",
    "4) no caso de linearização do raster através do ``ravel()``.\n",
    "entre outros.\n",
    "\n",
    "## Reshape\n",
    "\n",
    "O exemplo a seguir mostra inicialmente a criação de um vetor unidimensional sequencial sendo \"visto\" de\n",
    "forma bidimensional ou tridimensional."
   ]
  },
  {
   "cell_type": "code",
   "execution_count": 3,
   "metadata": {
    "collapsed": false
   },
   "outputs": [
    {
     "name": "stdout",
     "output_type": "stream",
     "text": [
      "a =\n",
      " [ 0  1  2  3  4  5  6  7  8  9 10 11 12 13 14 15 16 17 18 19 20 21 22 23 24\n",
      " 25 26 27 28 29]\n",
      "a.shape: (30,)\n"
     ]
    }
   ],
   "source": [
    "a = np.arange(30)\n",
    "print(\"a =\\n\", a)\n",
    "print('a.shape:',a.shape)"
   ]
  },
  {
   "cell_type": "code",
   "execution_count": 4,
   "metadata": {
    "collapsed": false
   },
   "outputs": [
    {
     "name": "stdout",
     "output_type": "stream",
     "text": [
      "b =\n",
      " [[ 0  1  2  3  4  5]\n",
      " [ 6  7  8  9 10 11]\n",
      " [12 13 14 15 16 17]\n",
      " [18 19 20 21 22 23]\n",
      " [24 25 26 27 28 29]]\n"
     ]
    }
   ],
   "source": [
    "b = a.reshape( (5, 6))\n",
    "print(\"b =\\n\", b)"
   ]
  },
  {
   "cell_type": "code",
   "execution_count": 5,
   "metadata": {
    "collapsed": false
   },
   "outputs": [
    {
     "name": "stdout",
     "output_type": "stream",
     "text": [
      "b=\n",
      " [[-1  1  2  3  4  5]\n",
      " [-1  7  8  9 10 11]\n",
      " [-1 13 14 15 16 17]\n",
      " [-1 19 20 21 22 23]\n",
      " [-1 25 26 27 28 29]]\n",
      "a =\n",
      " [-1  1  2  3  4  5 -1  7  8  9 10 11 -1 13 14 15 16 17 -1 19 20 21 22 23 -1\n",
      " 25 26 27 28 29]\n"
     ]
    }
   ],
   "source": [
    "b[:, 0] = -1\n",
    "print('b=\\n',b)\n",
    "print(\"a =\\n\", a)"
   ]
  },
  {
   "cell_type": "code",
   "execution_count": 8,
   "metadata": {
    "collapsed": false
   },
   "outputs": [
    {
     "name": "stdout",
     "output_type": "stream",
     "text": [
      "c =\n",
      " [[[-1  1  2  3  4]\n",
      "  [ 5 -1  7  8  9]\n",
      "  [10 11 -1 13 14]]\n",
      "\n",
      " [[15 16 17 -1 19]\n",
      "  [20 21 22 23 -1]\n",
      "  [25 26 27 28 29]]]\n",
      "c.base is a: True\n",
      "np.may_share_memory(a,c): True\n",
      "id(a), id(c), id(b): 140698297684896 140698297473824 140698297684816\n"
     ]
    }
   ],
   "source": [
    "c = a.reshape( (2, 3, 5) )\n",
    "#c = np.arange (12)\n",
    "print(\"c =\\n\", c)\n",
    "print('c.base is a:',c.base is a)\n",
    "print('np.may_share_memory(a,c):',np.may_share_memory(a,c))\n",
    "print('id(a), id(c), id(b):',id(a),id(c), id(b))"
   ]
  },
  {
   "cell_type": "markdown",
   "metadata": {},
   "source": [
    "## Slice - Fatiamento\n",
    "\n",
    "O exemplo a seguir mostra a cópia rasa no uso de fatiamento. No exemplo, todos os elementos de linhas\n",
    "e colunas pares são modificados para 1. CUIDADO: quando é feita a atribuição de b = 1., é importante\n",
    "que b seja referenciado como ndarray na forma b[:,:], caso contrário, se fizermos b = 1., uma nova \n",
    "variável é criada.\n",
    " \n"
   ]
  },
  {
   "cell_type": "code",
   "execution_count": null,
   "metadata": {
    "collapsed": true
   },
   "outputs": [],
   "source": []
  },
  {
   "cell_type": "code",
   "execution_count": 47,
   "metadata": {
    "collapsed": false
   },
   "outputs": [
    {
     "name": "stdout",
     "output_type": "stream",
     "text": [
      "a.shape: (5, 6)\n",
      "b.shape: (3, 3)\n",
      "b=\n",
      " [[ 1.  1.  1.]\n",
      " [ 1.  1.  1.]\n",
      " [ 1.  1.  1.]]\n",
      "a=\n",
      " [[ 1.  0.  1.  0.  1.  0.]\n",
      " [ 0.  0.  0.  0.  0.  0.]\n",
      " [ 1.  0.  1.  0.  1.  0.]\n",
      " [ 0.  0.  0.  0.  0.  0.]\n",
      " [ 1.  0.  1.  0.  1.  0.]]\n",
      "b.base is a: True\n",
      "np.may_share_memory(a,b): True\n"
     ]
    }
   ],
   "source": [
    "a = np.zeros( (5, 6))\n",
    "print('a.shape:',a.shape)\n",
    "b = a[::2,::2]\n",
    "print('b.shape:',b.shape)\n",
    "b[:,:] = 1.\n",
    "print('b=\\n', b) \n",
    "print('a=\\n', a) \n",
    "print('b.base is a:',b.base is a)\n",
    "print('np.may_share_memory(a,b):',np.may_share_memory(a,b))"
   ]
  },
  {
   "cell_type": "markdown",
   "metadata": {},
   "source": [
    "Este outro exemplo é uma forma atraente de processar uma coluna de uma matriz bidimensional,\n",
    "porém é preciso CUIDADO, pois o uso de b deve ser com b[:] se for atribuído um novo valor para\n",
    "ele, caso contrário, se fizermos b = arange(5), uma nova variável é criada."
   ]
  },
  {
   "cell_type": "code",
   "execution_count": null,
   "metadata": {
    "collapsed": false
   },
   "outputs": [],
   "source": [
    "a = np.arange(25).reshape((5,5))\n",
    "print('a=\\n',a)\n",
    "b = a[:,0]\n",
    "print('b=',b)"
   ]
  },
  {
   "cell_type": "code",
   "execution_count": null,
   "metadata": {
    "collapsed": false
   },
   "outputs": [],
   "source": [
    "b[:] = np.arange(5)\n",
    "b[2] = 100\n",
    "print('b=',b)\n",
    "print('a=\\n',a)"
   ]
  },
  {
   "cell_type": "code",
   "execution_count": null,
   "metadata": {
    "collapsed": false
   },
   "outputs": [],
   "source": [
    "a = np.arange(25).reshape((5,5))\n",
    "print('a=\\n',a)\n",
    "b = np.arange(5)\n",
    "print('b=',b)\n",
    "print('a=\\n',a)"
   ]
  },
  {
   "cell_type": "markdown",
   "metadata": {},
   "source": [
    "## Transposto\n",
    "\n",
    "A operação matricial de transposição que troca linhas por colunas produz também um *view* \n",
    "da imagem, sem necessidade de cópia:"
   ]
  },
  {
   "cell_type": "code",
   "execution_count": null,
   "metadata": {
    "collapsed": false
   },
   "outputs": [],
   "source": [
    "a = np.arange(24).reshape((4,6))\n",
    "print('a:\\n',a)\n",
    "at = a.T\n",
    "print('at:\\n',at)\n",
    "print('at.shape',at.shape)\n",
    "print('np.may_share_memory(a,at):',np.may_share_memory(a,at))"
   ]
  },
  {
   "cell_type": "markdown",
   "metadata": {},
   "source": [
    "## Ravel\n",
    "\n",
    "Aplicando-se o método ``ravel()`` a um ``ndarray``, gera-se um *view* do raster\n",
    "linearizado (i.e. uma única dimensão) do ``ndarray``."
   ]
  },
  {
   "cell_type": "code",
   "execution_count": null,
   "metadata": {
    "collapsed": false
   },
   "outputs": [],
   "source": [
    "a = np.arange(24).reshape((4,6))\n",
    "print('a:\\n',a)\n",
    "av = a.ravel()\n",
    "print('av.shape:',av.shape)\n",
    "print('av:\\n',av)\n",
    "print('np.may_share_memory(a,av):',np.may_share_memory(a,av))"
   ]
  },
  {
   "cell_type": "markdown",
   "metadata": {},
   "source": [
    "## Cópia profunda\n",
    "\n",
    "Cria uma copia completa do array, do seu shape e conteúdo. A recomendação é utilizar a \n",
    "função ``copy()`` para realizar a copia profunda, entretanto é possível conseguir a\n",
    "copia profunda pelo ``np.array``.\n",
    "    "
   ]
  },
  {
   "cell_type": "code",
   "execution_count": null,
   "metadata": {
    "collapsed": false
   },
   "outputs": [],
   "source": [
    "b = a.copy()\n",
    "c = np.array(a, copy=True)\n",
    "\n",
    "print(\"id de a = \",id(a))\n",
    "print(\"id de b = \",id(b))\n",
    "print(\"id de c = \",id(c))\n",
    "print('np.may_share_memory(a,b):',np.may_share_memory(a,b))\n",
    "print('np.may_share_memory(a,c):',np.may_share_memory(a,c))"
   ]
  },
  {
   "cell_type": "markdown",
   "metadata": {},
   "source": [
    "## Documentação Oficial Numpy\n",
    "\n",
    "[Copies and Views](http://wiki.scipy.org/Tentative_NumPy_Tutorial#head-1529ae93dd5d431ffe3a1001a4ab1a394e70a5f2)"
   ]
  }
 ],
 "metadata": {
  "kernelspec": {
   "display_name": "Python 3",
   "language": "python",
   "name": "python3"
  },
  "language_info": {
   "codemirror_mode": {
    "name": "ipython",
    "version": 3
   },
   "file_extension": ".py",
   "mimetype": "text/x-python",
   "name": "python",
   "nbconvert_exporter": "python",
   "pygments_lexer": "ipython3",
   "version": "3.6.0"
  },
  "toc": {
   "colors": {
    "hover_highlight": "#DAA520",
    "running_highlight": "#FF0000",
    "selected_highlight": "#FFD700"
   },
   "moveMenuLeft": true,
   "nav_menu": {
    "height": "190px",
    "width": "252px"
   },
   "navigate_menu": true,
   "number_sections": true,
   "sideBar": true,
   "threshold": 4,
   "toc_cell": true,
   "toc_section_display": "block",
   "toc_window_display": false
  }
 },
 "nbformat": 4,
 "nbformat_minor": 2
}
