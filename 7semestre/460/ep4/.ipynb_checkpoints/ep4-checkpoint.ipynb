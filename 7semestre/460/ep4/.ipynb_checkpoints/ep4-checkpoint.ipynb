{
 "cells": [
  {
   "cell_type": "code",
   "execution_count": 1,
   "metadata": {
    "collapsed": true
   },
   "outputs": [],
   "source": [
    "import numpy as np\n",
    "import matplotlib.pyplot as plt\n",
    "from sklearn.preprocessing import scale\n",
    "from sklearn.model_selection import KFold\n",
    "from sklearn.model_selection import GridSearchCV\n",
    "from sklearn.svm import SVC\n",
    "\n",
    "# Given a set of size N, returns a random partition of this set\n",
    "# containing two subsets of size N - k and k\n",
    "def random_bipartite_data (data_set, k):\n",
    "    np.random.shuffle (data_set)\n",
    "    return (data_set[k:], data_set[:k])"
   ]
  },
  {
   "cell_type": "markdown",
   "metadata": {},
   "source": [
    "# MAC0460/5832 - Lista 4: SVM - MNIST\n",
    "\n",
    "### Data de Entrega: 23h55m do dia 11/07/2017\n",
    "\n",
    "##### Classificação de dígitos\n",
    "Os dataset para esta tarefa é uma adaptação do disponível na competição do kaggle de reconhecimento de dígitos (https://www.kaggle.com/c/digit-recognizer) e está disponível em http://vision.ime.usp.br/~caiomr/mac0460_5832/train_svm.csv.gz. O dataset está sob a licença Creative Commons Attribution-Share Alike 3.0 license (https://creativecommons.org/licenses/by-sa/3.0/). O dataset foi zipado, e apenas os dígitos 5 e 6 foram mantidos. Cada linha (amostra) do arquivo contém 257 colunas: a primeira informa o label da amostra (0 para o dígito 5, 1 para o dígito 6) e as outras 256 são os valores dos pixels da imagem (16 x 16) que representa o dígito.\n",
    "\n",
    "Note que esse dataset difere do usado no EP3: as imagens sofreram pequenas rotações e translações aleatórias, além de terem sido escalonadas para o tamanho 16x16. Veja também que pode ser necessário realizar algum tipo de normalização para realizar um treinamento efetivo com SVM. Para auxiliar na normalização dos dados, consultem o seguinte link: http://scikit-learn.org/stable/modules/preprocessing.html. \n",
    "\n",
    "Q1. Use SVM para classificar os dígitos 5 e 6. Utilize as funções do scikit learn (http://scikit-learn.org/, http://scikit-learn.org/stable/modules/svm.html) para realizar o treinamento.\n",
    "\n",
    "Teste os kernels linear e RBF da seguinte maneira:\n",
    "1. Escolha aleatoriamente 932 amostras para formarem o conjunto de teste.\n",
    "2. Com as 7000 amostras restantes, utilize validação cruzada (com número de folds K = 5) para escolher os parâmetros do seu classificador, isto é: C (peso da *soft margin*) para o kernel linear; C e gamma para o kernel RBF.\n",
    "3. Plote a curva experimental de aprendizado para o melhor SVM com kernel linear e o melhor SVM com kernel RBF escolhidos por validação cruzada. Use as 932 amostras do conjunto de teste para estimar $E_{out}$. Comente sobre o resultado."
   ]
  },
  {
   "cell_type": "code",
   "execution_count": 2,
   "metadata": {
    "collapsed": false
   },
   "outputs": [
    {
     "name": "stdout",
     "output_type": "stream",
     "text": [
      "(7932, 257)\n",
      "(932, 257)\n",
      "(7000, 257)\n"
     ]
    }
   ],
   "source": [
    "data = np.genfromtxt('data/train_svm.csv', delimiter=',')\n",
    "print (data.shape)\n",
    "# First we scale data to have zero mean and unit variance\n",
    "data[:, 1:] = scale (data[:, 1:])\n",
    "\n",
    "# Bipartites into test data and validation data\n",
    "[validation_data, test_data] = random_bipartite_data (data, 932)\n",
    "print (test_data.shape)\n",
    "print (validation_data.shape)"
   ]
  },
  {
   "cell_type": "code",
   "execution_count": 6,
   "metadata": {
    "collapsed": false
   },
   "outputs": [
    {
     "name": "stdout",
     "output_type": "stream",
     "text": [
      "{'C': 100, 'gamma': 0.001, 'kernel': 'rbf'}\n"
     ]
    }
   ],
   "source": [
    "tuning_parameters = [{'kernel': ['linear'], 'C': [1, 10, 100]}, \n",
    "                     {'kernel': ['rbf'], 'gamma': [1e-2, 1e-3, 1e-4], \n",
    "                      'C':[1, 10, 100]}]\n",
    "clf = GridSearchCV (SVC (C=1), tuning_parameters, cv=5)\n",
    "clf.fit (validation_data[:, 1:], validation_data[:, 0])\n",
    "print(clf.best_params_)"
   ]
  },
  {
   "cell_type": "code",
   "execution_count": 3,
   "metadata": {
    "collapsed": false
   },
   "outputs": [
    {
     "name": "stdout",
     "output_type": "stream",
     "text": [
      "Label:  1\n"
     ]
    },
    {
     "data": {
      "image/png": "[encoded data removed]",
      "text/plain": [
       "<matplotlib.figure.Figure at 0x7f18229e4f60>"
      ]
     },
     "metadata": {},
     "output_type": "display_data"
    },
    {
     "name": "stdout",
     "output_type": "stream",
     "text": [
      "Label:  0\n"
     ]
    },
    {
     "data": {
      "image/png": "[encoded data removed]",
      "text/plain": [
       "<matplotlib.figure.Figure at 0x7f18186d1390>"
      ]
     },
     "metadata": {},
     "output_type": "display_data"
    },
    {
     "name": "stdout",
     "output_type": "stream",
     "text": [
      "Label:  1\n"
     ]
    },
    {
     "data": {
      "image/png": "[encoded data removed]",
      "text/plain": [
       "<matplotlib.figure.Figure at 0x7f1818578fd0>"
      ]
     },
     "metadata": {},
     "output_type": "display_data"
    },
    {
     "name": "stdout",
     "output_type": "stream",
     "text": [
      "Label:  0\n"
     ]
    },
    {
     "data": {
      "image/png": "[encoded data removed]",
      "text/plain": [
       "<matplotlib.figure.Figure at 0x7f1817d8a320>"
      ]
     },
     "metadata": {},
     "output_type": "display_data"
    }
   ],
   "source": [
    "sample = data[0]\n",
    "print(\"Label: \", int(sample[0]))\n",
    "plt.imshow(sample[1:].reshape((16, 16)), cmap='gray')\n",
    "plt.show()\n",
    "\n",
    "sample = data[1]\n",
    "print(\"Label: \", int(sample[0]))\n",
    "plt.imshow(sample[1:].reshape((16, 16)), cmap='gray')\n",
    "plt.show()\n",
    "\n",
    "sample = data[20]\n",
    "print(\"Label: \", int(sample[0]))\n",
    "plt.imshow(sample[1:].reshape((16, 16)), cmap='gray')\n",
    "plt.show()\n",
    "\n",
    "sample = data[25]\n",
    "print(\"Label: \", int(sample[0]))\n",
    "plt.imshow(sample[1:].reshape((16, 16)), cmap='gray')\n",
    "plt.show()"
   ]
  },
  {
   "cell_type": "code",
   "execution_count": null,
   "metadata": {
    "collapsed": true
   },
   "outputs": [],
   "source": []
  }
 ],
 "metadata": {
  "kernelspec": {
   "display_name": "Python 3",
   "language": "python",
   "name": "python3"
  },
  "language_info": {
   "codemirror_mode": {
    "name": "ipython",
    "version": 3
   },
   "file_extension": ".py",
   "mimetype": "text/x-python",
   "name": "python",
   "nbconvert_exporter": "python",
   "pygments_lexer": "ipython3",
   "version": "3.6.0"
  }
 },
 "nbformat": 4,
 "nbformat_minor": 2
}
