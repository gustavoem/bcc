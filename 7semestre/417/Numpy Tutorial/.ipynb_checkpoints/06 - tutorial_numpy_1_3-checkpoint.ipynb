{
 "cells": [
  {
   "cell_type": "markdown",
   "metadata": {
    "toc": "true"
   },
   "source": [
    "# Table of Contents\n",
    " <p><div class=\"lev1 toc-item\"><a href=\"#Fatiamento-no-ndarray-bidimensional\" data-toc-modified-id=\"Fatiamento-no-ndarray-bidimensional-1\"><span class=\"toc-item-num\">1&nbsp;&nbsp;</span>Fatiamento no ndarray bidimensional</a></div><div class=\"lev2 toc-item\"><a href=\"#Inicializando-um-array-e-mudando-o-seu-shape\" data-toc-modified-id=\"Inicializando-um-array-e-mudando-o-seu-shape-11\"><span class=\"toc-item-num\">1.1&nbsp;&nbsp;</span>Inicializando um array e mudando o seu shape</a></div><div class=\"lev2 toc-item\"><a href=\"#Fatiamento-de-linhas-e-colunas-de-um-array\" data-toc-modified-id=\"Fatiamento-de-linhas-e-colunas-de-um-array-12\"><span class=\"toc-item-num\">1.2&nbsp;&nbsp;</span>Fatiamento de linhas e colunas de um array</a></div><div class=\"lev2 toc-item\"><a href=\"#Fatiamento-de-elementos-específicos-de-um-array\" data-toc-modified-id=\"Fatiamento-de-elementos-específicos-de-um-array-13\"><span class=\"toc-item-num\">1.3&nbsp;&nbsp;</span>Fatiamento de elementos específicos de um array</a></div><div class=\"lev2 toc-item\"><a href=\"#Fatiamento-com-índices-invertidos\" data-toc-modified-id=\"Fatiamento-com-índices-invertidos-14\"><span class=\"toc-item-num\">1.4&nbsp;&nbsp;</span>Fatiamento com índices invertidos</a></div><div class=\"lev1 toc-item\"><a href=\"#Documentação-Oficial-Numpy\" data-toc-modified-id=\"Documentação-Oficial-Numpy-2\"><span class=\"toc-item-num\">2&nbsp;&nbsp;</span>Documentação Oficial Numpy</a></div><div class=\"lev1 toc-item\"><a href=\"#Links-Interessantes\" data-toc-modified-id=\"Links-Interessantes-3\"><span class=\"toc-item-num\">3&nbsp;&nbsp;</span>Links Interessantes</a></div>"
   ]
  },
  {
   "cell_type": "markdown",
   "metadata": {},
   "source": [
    "# Fatiamento no ndarray bidimensional\n",
    "\n",
    "Um recurso importante do numpy é o fatiamento no qual é possível acessar partes do array de diversas formas, como pode ser visto abaixo:\n",
    "\n",
    "## Inicializando um array e mudando o seu shape"
   ]
  },
  {
   "cell_type": "code",
   "execution_count": 2,
   "metadata": {
    "collapsed": false
   },
   "outputs": [
    {
     "name": "stdout",
     "output_type": "stream",
     "text": [
      "a = \n",
      " [ 0  1  2  3  4  5  6  7  8  9 10 11 12 13 14 15 16 17 18 19]\n",
      "a.reshape(4,5) = \n",
      " [[ 0  1  2  3  4]\n",
      " [ 5  6  7  8  9]\n",
      " [10 11 12 13 14]\n",
      " [15 16 17 18 19]]\n"
     ]
    }
   ],
   "source": [
    "import numpy as np\n",
    "\n",
    "a = np.arange(20) # a é um vetor unidimensional de 20 elementos\n",
    "print('a = \\n', a)\n",
    "\n",
    "a = a.reshape(4,5) # a agora é um array 4x5 (4 linhas por 5 colunas)\n",
    "print('a.reshape(4,5) = \\n', a)"
   ]
  },
  {
   "cell_type": "markdown",
   "metadata": {},
   "source": [
    "## Fatiamento de linhas e colunas de um array\n",
    "\n",
    "O operador : indica que todos os elementos naquela dimensão devem ser acessados."
   ]
  },
  {
   "cell_type": "code",
   "execution_count": 2,
   "metadata": {
    "collapsed": false
   },
   "outputs": [
    {
     "name": "stdout",
     "output_type": "stream",
     "text": [
      "A segunda linha do array: \n",
      " [5 6 7 8 9]\n",
      " A primeira coluna do array: \n",
      " [ 0  5 10 15]\n"
     ]
    }
   ],
   "source": [
    "print('A segunda linha do array: \\n', a[1,:])  # A segunda linha é o índice 1\n",
    "\n",
    "print(' A primeira coluna do array: \\n', a[:,0]) # A primeira coluna corresponde ao índice 0"
   ]
  },
  {
   "cell_type": "markdown",
   "metadata": {},
   "source": [
    "## Fatiamento de elementos específicos de um array"
   ]
  },
  {
   "cell_type": "code",
   "execution_count": 3,
   "metadata": {
    "collapsed": false
   },
   "outputs": [
    {
     "name": "stdout",
     "output_type": "stream",
     "text": [
      "Acessando as linhas do array de 2 em 2 começando pelo índice 0: \n",
      " [[ 0  1  2  3  4]\n",
      " [10 11 12 13 14]]\n",
      " Acessando as linhas e colunas do array de 2 em 2 começando pela linha 0 e coluna 1: \n",
      " [[ 1  3]\n",
      " [11 13]]\n"
     ]
    }
   ],
   "source": [
    "print('Acessando as linhas do array de 2 em 2 começando pelo índice 0: \\n', a[0::2,:])\n",
    "\n",
    "print(' Acessando as linhas e colunas do array de 2 em 2 começando pela linha 0 e coluna 1: \\n', a[0::2,1::2])"
   ]
  },
  {
   "cell_type": "markdown",
   "metadata": {},
   "source": [
    "## Fatiamento com índices invertidos"
   ]
  },
  {
   "cell_type": "code",
   "execution_count": 16,
   "metadata": {
    "collapsed": false
   },
   "outputs": [
    {
     "name": "stdout",
     "output_type": "stream",
     "text": [
      "Acesso as duas últimas linhas do array em ordem reversa:\n",
      " [[15 16 17 18 19]\n",
      " [10 11 12 13 14]]\n",
      "Acesso elemento na última linha e coluna do array:\n",
      " 19\n",
      "Invertendo a ordem das linhas do array:\n",
      " [[15 16 17 18 19]\n",
      " [10 11 12 13 14]\n",
      " [ 5  6  7  8  9]\n",
      " [ 0  1  2  3  4]]\n"
     ]
    }
   ],
   "source": [
    "print(\"Acesso as duas últimas linhas do array em ordem reversa:\\n\", a[-1:-3:-1,:])\n",
    "print(\"Acesso elemento na última linha e coluna do array:\\n\", a[-1,-1])\n",
    "print(\"Invertendo a ordem das linhas do array:\\n\", a[::-1,:])"
   ]
  },
  {
   "cell_type": "markdown",
   "metadata": {},
   "source": [
    "# Documentação Oficial Numpy\n",
    "\n",
    "[Scipy.org Princípios básicos de indexação de arrays](https://docs.scipy.org/doc/numpy/user/basics.indexing.html)\n",
    "\n",
    "# Links Interessantes\n",
    "\n",
    "[Scipy-lectures: operações avançadas com fatiamento](http://scipy-lectures.github.io/intro/numpy/array_object.html#fancy-indexing)"
   ]
  }
 ],
 "metadata": {
  "kernelspec": {
   "display_name": "Python 3",
   "language": "python",
   "name": "python3"
  },
  "language_info": {
   "codemirror_mode": {
    "name": "ipython",
    "version": 3
   },
   "file_extension": ".py",
   "mimetype": "text/x-python",
   "name": "python",
   "nbconvert_exporter": "python",
   "pygments_lexer": "ipython3",
   "version": "3.6.0"
  },
  "toc": {
   "colors": {
    "hover_highlight": "#DAA520",
    "running_highlight": "#FF0000",
    "selected_highlight": "#FFD700"
   },
   "moveMenuLeft": true,
   "nav_menu": {
    "height": "158px",
    "width": "252px"
   },
   "navigate_menu": true,
   "number_sections": true,
   "sideBar": true,
   "threshold": 4,
   "toc_cell": true,
   "toc_section_display": "block",
   "toc_window_display": false
  }
 },
 "nbformat": 4,
 "nbformat_minor": 2
}
