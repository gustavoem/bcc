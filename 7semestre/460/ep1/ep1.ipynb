{
 "cells": [
  {
   "cell_type": "code",
   "execution_count": 3,
   "metadata": {
    "collapsed": false,
    "deletable": true,
    "editable": true
   },
   "outputs": [],
   "source": [
    "%matplotlib inline\n",
    "import matplotlib.pyplot as plt\n",
    "import numpy as np\n",
    "import PIL\n",
    "\n",
    "from mac0460_5832.utils import *\n",
    "\n",
    "######################################################################\n",
    "#\n",
    "# OBS:\n",
    "#\n",
    "# A função draw_img original lia o atributo shape como uma tupla\n",
    "# (width, height). Como é mais natural descrever o shape de uma matriz\n",
    "# como (linhas = height, colunas = width), eu optei por modificar essa\n",
    "# função para ler os vetores dessa maneira. Os resultados não devem se\n",
    "# alterar, apenas virar.\n",
    "\n",
    "\n",
    "######################################################################\n",
    "#\n",
    "# Classes                                                       \n",
    "#\n",
    "###\n",
    "# WOperator Learner Class\n",
    "class WOperatorLearner:\n",
    "    \"\"\" Class used to learn a biniary image operator \"\"\"\n",
    "    \n",
    "    def __init__ (self, n, m):\n",
    "        \"\"\" Class constructor \"\"\"\n",
    "        self.window_shape = (n, m)\n",
    "        self.samples = {}\n",
    "        self._update_hypothesis ()\n",
    "\n",
    "        \n",
    "    def sample_image (self, src, dest):\n",
    "        \"\"\" Samples an image, adding samples to the self.samples\n",
    "        hash \"\"\"\n",
    "        x_offset = int ((self.window_shape[1] - 1) / 2)\n",
    "        y_offset = int ((self.window_shape[0] - 1) / 2)\n",
    "        bsrc = zero_border_img (src, x_offset, y_offset)\n",
    "        window_configuration = []\n",
    "        sy, ey = 0, 2 * y_offset + 1\n",
    "        for i in range (y_offset, y_offset + src.shape[0]):\n",
    "            sx, ex = 0, 2 * x_offset + 1\n",
    "            for j in range (x_offset, x_offset + src.shape[1]):\n",
    "                w = bsrc[sy:ey, sx:ex]\n",
    "                window = window_to_int (w, 2)\n",
    "                label = dest[i - y_offset][j - x_offset]\n",
    "                if (window not in self.samples):\n",
    "                    self.samples[window] = [0, 0]\n",
    "                self.samples[window][label] += 1\n",
    "                sx += 1\n",
    "                ex += 1\n",
    "            sy += 1\n",
    "            ey += 1\n",
    "        self._update_hypothesis ()\n",
    "\n",
    "\n",
    "    def get_hypothesis (self):\n",
    "        return self.hypothesis\n",
    "\n",
    "\n",
    "    def get_samples (self):\n",
    "        return self.samples\n",
    "\n",
    "\n",
    "    def _update_hypothesis (self):\n",
    "        self.hypothesis = []\n",
    "        h = self.hypothesis\n",
    "        n = self.window_shape[0]\n",
    "        m = self.window_shape[1]\n",
    "        for x in range (2 ** (n * m)):\n",
    "            h.append (False)\n",
    "        for w in self.samples:\n",
    "            l = self.samples[w][0] < self.samples[w][1]\n",
    "            h[w] = l\n",
    "    \n",
    "    def clean_samples (self):\n",
    "        self.samples = {}\n",
    "        self._update_hypothesis ()\n",
    "                \n",
    "# End of WOperatorLearner Class\n",
    "##           \n",
    "\n",
    "\n",
    "\n",
    "\n",
    "###\n",
    "# WOperator Classs\n",
    "class WOperator:\n",
    "    \"\"\" Class used to define a W-Operator \"\"\"\n",
    "    \n",
    "    def __init__ (self, f):\n",
    "        \"\"\" Class constructor. f should be an array of size\n",
    "        2 ^ (window size) \"\"\"\n",
    "        self.f = f\n",
    "        \n",
    "\n",
    "    def operate_image (self, img):\n",
    "        \"\"\" Operates over an image \"\"\"\n",
    "\n",
    "# End of WOperator Class\n",
    "##\n",
    "\n",
    "\n",
    "\n",
    "######################################################################\n",
    "#\n",
    "# General Use Functions                                                   \n",
    "#\n",
    "###\n",
    "def window_to_int (window, base):\n",
    "    \"\"\" Maps a window to an integer. The way this function works is\n",
    "    reading the window as a number of base <base> from left to right\n",
    "    and up to down. It returns the same number in base 10 \"\"\"\n",
    "    total = 0\n",
    "    power = 1\n",
    "    w = window.tolist ()\n",
    "    for row in w:\n",
    "        for element in row:\n",
    "            total += element * power\n",
    "            power *= base\n",
    "    return int (total)\n",
    "\n",
    "\n",
    "def int_to_window (number, base, shape):\n",
    "    \"\"\" The inverse of window_to_int \"\"\"\n",
    "    power = 1\n",
    "    window_size = shape[0] * shape[1]\n",
    "    w_arr = []\n",
    "    while (number > 0):\n",
    "        d = number % base\n",
    "        number = number // base\n",
    "        w_arr.append (d)\n",
    "    while (len (w_arr) < window_size):\n",
    "        w_arr.append (0)\n",
    "    w = np.array ([w_arr])\n",
    "    w.reshape (shape)\n",
    "    return w\n",
    "\n",
    "\n",
    "def zero_border_img (img, x_border, y_border):\n",
    "    \"\"\" This function creates a border of zeros on img \"\"\"\n",
    "    h = img.shape[0]\n",
    "    w = img.shape[1]\n",
    "    new_h = h + 2 * y_border\n",
    "    new_w = w + 2 * x_border\n",
    "    zeros = np.zeros ((new_h, new_w))\n",
    "    bordered_img = zeros\n",
    "    y_start, y_end = y_border, -y_border\n",
    "    x_start, x_end = x_border, -x_border\n",
    "    if y_border is 0: y_end = h\n",
    "    if x_border is 0: x_end = w\n",
    "    bordered_img[y_start:y_end, x_start:x_end] += img\n",
    "    return bordered_img"
   ]
  },
  {
   "cell_type": "markdown",
   "metadata": {
    "deletable": true,
    "editable": true
   },
   "source": [
    "# MAC0460/5832 - Lista 1: Aprendizado de W-Operadores\n",
    "\n",
    "### Data de Entrega: 23h55m do dia 05/05/2017\n",
    "\n",
    "\n",
    "Q1. Encontre, utilizando a técnica de aprendizado de w-operadores vista em sala, o operador 1x3 (1 linha, 3 colunas) capaz de transformar a imagem src1 em dest1 (veja as variáveis abaixo) mostrando a tabela de padrões encontrada. Teste seu operador na imagem src1 e verifique que ele funciona como esperado. Teste seu operador nas imagens images/q1/1_test1.png e images/q1/1_test2.png desenhando as imagens obtidas (sugestão: use a função draw_img do arquivo mac0460_5832/utils.py)."
   ]
  },
  {
   "cell_type": "code",
   "execution_count": 4,
   "metadata": {
    "collapsed": false,
    "deletable": true,
    "editable": true,
    "scrolled": false
   },
   "outputs": [
    {
     "data": {
      "image/png": "[encoded data removed]",
      "text/plain": [
       "<matplotlib.figure.Figure at 0x7f86c42c9668>"
      ]
     },
     "metadata": {},
     "output_type": "display_data"
    },
    {
     "name": "stdout",
     "output_type": "stream",
     "text": [
      "---------- Tabela de padrões encontrada: ---------\n",
      "[[0, 0, 0]] zeros = 26, uns = 0\n",
      "[[0, 0, 1]] zeros = 5, uns = 0\n",
      "[[0, 1, 0]] zeros = 0, uns = 2\n",
      "[[1, 0, 0]] zeros = 5, uns = 0\n",
      "[[0, 1, 1]] zeros = 0, uns = 3\n",
      "[[1, 1, 1]] zeros = 5, uns = 0\n",
      "[[1, 1, 0]] zeros = 0, uns = 3\n"
     ]
    },
    {
     "data": {
      "image/png": "[encoded data removed]",
      "text/plain": [
       "<matplotlib.figure.Figure at 0x7f86c400b908>"
      ]
     },
     "metadata": {},
     "output_type": "display_data"
    },
    {
     "data": {
      "image/png": "[encoded data removed]",
      "text/plain": [
       "<matplotlib.figure.Figure at 0x7f86c400b518>"
      ]
     },
     "metadata": {},
     "output_type": "display_data"
    }
   ],
   "source": [
    "src1 = read_img('images/q1/1_src.png')\n",
    "dest1 = read_img('images/q1/1_dest.png')\n",
    "draw_img_pair(src1, dest1)\n",
    "\n",
    "# creates w-operator and samples image\n",
    "wopl = WOperatorLearner (1, 3)\n",
    "w_shape = (1, 3)\n",
    "wopl.sample_image (src1, dest1)\n",
    "print ('---------- Tabela de padrões encontrada: ---------')\n",
    "table = wopl.get_samples ()\n",
    "for key in table:\n",
    "    w = int_to_window (key, 2, w_shape)\n",
    "    print (w.tolist (), end=' ')\n",
    "    print ('zeros = ' + str (table[key][0]) + ', uns = ' + str (table[key][1]))\n",
    "h = wopl.get_hypothesis ()\n",
    "\n",
    "\n",
    "\n",
    "test1_1 = read_img('images/q1/1_test1.png')\n",
    "test1_2 = read_img('images/q1/1_test2.png')\n",
    "draw_img(test1_1)\n",
    "draw_img(test1_2)"
   ]
  },
  {
   "cell_type": "markdown",
   "metadata": {},
   "source": [
    "Q2. Aprenda o operador 3x3 para detecção de bordas. Treine seu operador nas imagens da pastas images/q2/ usando os pares (q2_src\\*.png, q2_dest\\*.png). Teste seu operador nas imagens images/q2/q2_test.png e images/q2/q2_test2.png. Algumas das imagens de treino são desenhadas abaixo."
   ]
  },
  {
   "cell_type": "code",
   "execution_count": null,
   "metadata": {
    "collapsed": false,
    "scrolled": false
   },
   "outputs": [],
   "source": [
    "src2_1 = read_img('images/q2/q2_src1.png')\n",
    "src2_2 = read_img('images/q2/q2_src2.png')\n",
    "src2_3 = read_img('images/q2/q2_src3.png')\n",
    "\n",
    "dest2_1 = read_img('images/q2/q2_dest1.png')\n",
    "dest2_2 = read_img('images/q2/q2_dest2.png')\n",
    "dest2_3 = read_img('images/q2/q2_dest3.png')\n",
    "\n",
    "\n",
    "draw_img_pair(src2_1, dest2_1)\n",
    "draw_img_pair(src2_2, dest2_2)\n",
    "draw_img_pair(src2_3, dest2_3)"
   ]
  },
  {
   "cell_type": "markdown",
   "metadata": {
    "deletable": true,
    "editable": true
   },
   "source": [
    "Q3. Use o algoritmo de aprendizado para obter um operador capaz de eliminar ruído. Use no treinamento as imagens images/q3/q3_src\\*.png sempre com o mesmo target images/q3/q3_dest.png. Teste a janela com 5 elementos (cruz). Teste seu operador nas imagens images/q3/q3_test1.png e images/q3/q3_test2.png. Calcule e plote os erros $E_{in}$ e $E_{out}$ obtidos durante o treinamento."
   ]
  },
  {
   "cell_type": "code",
   "execution_count": null,
   "metadata": {
    "collapsed": false,
    "deletable": true,
    "editable": true,
    "scrolled": false
   },
   "outputs": [],
   "source": [
    "src3_1 = read_img('images/q3/q3_src1.png')\n",
    "src3_2 = read_img('images/q3/q3_src2.png')\n",
    "src3_3 = read_img('images/q3/q3_src3.png')\n",
    "src3_4 = read_img('images/q3/q3_src4.png')\n",
    "dest3 = read_img('images/q3/q3_dest.png')\n",
    "\n",
    "draw_img(dest3)\n",
    "\n",
    "draw_img_pair(src3_1, dest3)\n",
    "draw_img_pair(src3_2, dest3)\n",
    "draw_img_pair(src3_3, dest3)"
   ]
  },
  {
   "cell_type": "markdown",
   "metadata": {
    "deletable": true,
    "editable": true
   },
   "source": [
    "Q4. Projete um operador para aprender a extrair a letra 's' de imagens de texto. Para isso utilize os pares de imagens q4_src\\*.png q4_dest\\*.png da pasta images/q4/train. Teste seu operador nas imagens da pasta images/q4/test. Utilize a composição de janelas pequenas. Avalie o erro do seu operador comparando a saída obtida por ele com a saída esperada (imagens q4_gt\\*.png da pasta images/q4/test)."
   ]
  },
  {
   "cell_type": "code",
   "execution_count": null,
   "metadata": {
    "collapsed": false,
    "deletable": true,
    "editable": true,
    "scrolled": false
   },
   "outputs": [],
   "source": [
    "dest4_1a = read_img(\"images/q4/train/q4_dest1a.png\")\n",
    "src4_1a = read_img(\"images/q4/train/q4_src1a.png\")\n",
    "dest4_1b = read_img(\"images/q4/train/q4_dest1b.png\")\n",
    "src4_1b = read_img(\"images/q4/train/q4_src1b.png\")\n",
    "draw_img_pair(src4_1a, dest4_1a, figsz=(15, 6))\n",
    "draw_img_pair(src4_1b, dest4_1b, figsz=(15, 6))"
   ]
  },
  {
   "cell_type": "markdown",
   "metadata": {},
   "source": [
    "Q5. Utilizando a técnica de multiresolução, aprenda o operador capaz de remover ruído das imagens da pasta images/q5/. Utilize os pares de imagens (q5_src\\*.png, q5_dest.png) para o treinamento e depois teste seu  operador nas imagens q5_test1.png e q5_test2.png."
   ]
  },
  {
   "cell_type": "code",
   "execution_count": null,
   "metadata": {
    "collapsed": false
   },
   "outputs": [],
   "source": [
    "dest5 = read_img(\"images/q5/q5_dest.png\")\n",
    "src5_1 = read_img(\"images/q5/q5_src1.png\")\n",
    "src5_2 = read_img(\"images/q5/q5_src2.png\")\n",
    "draw_img(dest5)\n",
    "draw_img(src5_1)\n",
    "draw_img(src5_2)"
   ]
  },
  {
   "cell_type": "markdown",
   "metadata": {},
   "source": [
    "Q6. Utilize a técnica de envelope, como visto em sala, para remover ruído de imagens. Use o mesmo dataset da questão anterior e as funções de morfologia disponíveis em mac0460_5832/utils.py para definir as funções $\\alpha$ e $\\beta$. Um exemplo de erosão em uma das imagens de treino é mostrado abaixo. Comente sobre a escolha das funções $\\alpha$ e $\\beta$."
   ]
  },
  {
   "cell_type": "code",
   "execution_count": null,
   "metadata": {
    "collapsed": false
   },
   "outputs": [],
   "source": [
    "src6_1 = read_img(\"images/q5/q5_src1.png\")\n",
    "draw_img(erosion(src6_1, se_box(2)))"
   ]
  },
  {
   "cell_type": "markdown",
   "metadata": {},
   "source": [
    "Q7. Utilize a técnica de envelope com multiresolução para aprender um operador capaz de remover ruído de imagens. Para cada uma das janelas, defina funções $\\alpha$ e $\\beta$ (podem ser diferentes). Compare o resultado obtido aplicando a mistura de técnicas com os resultados das duas questões anteriores."
   ]
  },
  {
   "cell_type": "code",
   "execution_count": null,
   "metadata": {
    "collapsed": true
   },
   "outputs": [],
   "source": []
  },
  {
   "cell_type": "markdown",
   "metadata": {},
   "source": [
    "Q8. A função gen_rand_imgs abaixo retorna um par de imagens. A primeira contém alguns pontos gerados aleatoriamente. A segunda é a dilatação da primeira por um elemento estruturante em forma de cruz. Aprenda o operador capaz de realizar essa transformação, gerando os pares de src e dest. Crie os dados de treinamento baseado na equação vista em sala ($m(\\epsilon, \\delta, H) = \\frac{1}{\\epsilon}ln\\frac{|H|}{\\delta}$). Compare o resultado obtido pelo seu classificador (gere mais pares para teste e ter uma estimativa de $E_{out}$) para $\\epsilon = [0.2, 0.1]$ e $\\delta = [0.3, 0.2]$."
   ]
  },
  {
   "cell_type": "code",
   "execution_count": null,
   "metadata": {
    "collapsed": false
   },
   "outputs": [],
   "source": [
    "def gen_rand_imgs():\n",
    "    noise = np.zeros((20, 20)).astype(bool)\n",
    "    num_pixels = 20\n",
    "    x = np.random.randint(0, 20, num_pixels)\n",
    "    y = np.random.randint(0, 20, num_pixels)\n",
    "\n",
    "    for i in range(num_pixels):\n",
    "        noise[x[i], y[i]] = 1\n",
    "\n",
    "    return noise, dilation(noise, se_cross(1))\n",
    "\n",
    "src5_1, dest5_1 = gen_rand_imgs()\n",
    "src5_2, dest5_2 = gen_rand_imgs()\n",
    "draw_img_pair(src5_1, dest5_1)\n",
    "draw_img_pair(src5_2, dest5_2)"
   ]
  },
  {
   "cell_type": "code",
   "execution_count": null,
   "metadata": {
    "collapsed": true
   },
   "outputs": [],
   "source": []
  }
 ],
 "metadata": {
  "kernelspec": {
   "display_name": "Python 3",
   "language": "python",
   "name": "python3"
  },
  "language_info": {
   "codemirror_mode": {
    "name": "ipython",
    "version": 3
   },
   "file_extension": ".py",
   "mimetype": "text/x-python",
   "name": "python",
   "nbconvert_exporter": "python",
   "pygments_lexer": "ipython3",
   "version": "3.6.0"
  }
 },
 "nbformat": 4,
 "nbformat_minor": 2
}
