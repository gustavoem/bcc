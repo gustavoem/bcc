{
 "cells": [
  {
   "cell_type": "code",
   "execution_count": 1,
   "metadata": {
    "collapsed": true
   },
   "outputs": [],
   "source": [
    "import numpy as np\n",
    "import matplotlib.pyplot as plt"
   ]
  },
  {
   "cell_type": "markdown",
   "metadata": {},
   "source": [
    "# MAC0460/5832 - EP 4: SVM - MNIST\n",
    "\n",
    "### Due Date: 23h55m do dia 10/07/2017\n",
    "\n",
    "##### Digit classification\n",
    "The dataset for this task is a modified version of the one taken from kaggle's competition of digit recognition (https://www.kaggle.com/c/digit-recognizer) and it is available for download at http://vision.ime.usp.br/~caiomr/mac0460_5832/train_svm.csv.gz. This dataset's license is Creative Commons Attribution-Share Alike 3.0 license (https://creativecommons.org/licenses/by-sa/3.0/). The dataset is compressed and contains only the digits 5 and 6. Each line (sample) has 257 columns: the first one is the label of the sample (0 for the digit 5 and 1 for the digit 6) and the other 256 are the pixels of a (16x16) image.\n",
    "\n",
    "Notice that the samples in this file are different than the ones in EP3's dataset: small random rotations and transalations were applied to the images and they were also scaled down to 16x16 resolution. It is also worth to mention that normalizing the data might be necessary. To aid in this task, check this website: http://scikit-learn.org/stable/modules/preprocessing.html.\n",
    "\n",
    "Q1. Use SVM to classify the digits 5 and 6. Use scikitlearn package to train your svm classifier (http://scikit-learn.org/, http://scikit-learn.org/stable/modules/svm.html).\n",
    "\n",
    "Test the linear and RBF kernels experimenting with the data in the following ways:\n",
    "1. Pick 932 samples randomly as your test dataset\n",
    "2. Using the other 7000 samples, use cross validation (number of folds K = 5) to select the parameters for your classifier, that is: C (soft margin coefficient) for the linear kernel; C and gamma for the rbf kernel.\n",
    "3. Plot two learning curves: one using the best linear kernel SVM and the other using the best RBF kernel SVM from the previous step. Use the 932 samples in the test set to evaluate $E_{out}$. Comment on the results."
   ]
  },
  {
   "cell_type": "code",
   "execution_count": 2,
   "metadata": {
    "collapsed": false
   },
   "outputs": [
    {
     "name": "stdout",
     "output_type": "stream",
     "text": [
      "(7932, 257)\n"
     ]
    }
   ],
   "source": [
    "data = np.genfromtxt('data/train_svm.csv', delimiter=',')\n",
    "print(data.shape)"
   ]
  },
  {
   "cell_type": "code",
   "execution_count": 3,
   "metadata": {
    "collapsed": false
   },
   "outputs": [
    {
     "name": "stdout",
     "output_type": "stream",
     "text": [
      "Label:  1\n"
     ]
    },
    {
     "data": {
      "image/png": "[encoded data removed]",
      "text/plain": [
       "<matplotlib.figure.Figure at 0x7fb2aab51898>"
      ]
     },
     "metadata": {},
     "output_type": "display_data"
    },
    {
     "name": "stdout",
     "output_type": "stream",
     "text": [
      "Label:  0\n"
     ]
    },
    {
     "data": {
      "image/png": "[encoded data removed]",
      "text/plain": [
       "<matplotlib.figure.Figure at 0x7fb2a0cb4fd0>"
      ]
     },
     "metadata": {},
     "output_type": "display_data"
    },
    {
     "name": "stdout",
     "output_type": "stream",
     "text": [
      "Label:  1\n"
     ]
    },
    {
     "data": {
      "image/png": "[encoded data removed]",
      "text/plain": [
       "<matplotlib.figure.Figure at 0x7fb2a0bdbf60>"
      ]
     },
     "metadata": {},
     "output_type": "display_data"
    },
    {
     "name": "stdout",
     "output_type": "stream",
     "text": [
      "Label:  0\n"
     ]
    },
    {
     "data": {
      "image/png": "[encoded data removed]",
      "text/plain": [
       "<matplotlib.figure.Figure at 0x7fb29fd0f7b8>"
      ]
     },
     "metadata": {},
     "output_type": "display_data"
    }
   ],
   "source": [
    "sample = data[0]\n",
    "print(\"Label: \", int(sample[0]))\n",
    "plt.imshow(sample[1:].reshape((16, 16)), cmap='gray')\n",
    "plt.show()\n",
    "\n",
    "sample = data[1]\n",
    "print(\"Label: \", int(sample[0]))\n",
    "plt.imshow(sample[1:].reshape((16, 16)), cmap='gray')\n",
    "plt.show()\n",
    "\n",
    "sample = data[20]\n",
    "print(\"Label: \", int(sample[0]))\n",
    "plt.imshow(sample[1:].reshape((16, 16)), cmap='gray')\n",
    "plt.show()\n",
    "\n",
    "sample = data[25]\n",
    "print(\"Label: \", int(sample[0]))\n",
    "plt.imshow(sample[1:].reshape((16, 16)), cmap='gray')\n",
    "plt.show()"
   ]
  },
  {
   "cell_type": "code",
   "execution_count": null,
   "metadata": {
    "collapsed": true
   },
   "outputs": [],
   "source": []
  }
 ],
 "metadata": {
  "kernelspec": {
   "display_name": "Python 3",
   "language": "python",
   "name": "python3"
  },
  "language_info": {
   "codemirror_mode": {
    "name": "ipython",
    "version": 3
   },
   "file_extension": ".py",
   "mimetype": "text/x-python",
   "name": "python",
   "nbconvert_exporter": "python",
   "pygments_lexer": "ipython3",
   "version": "3.6.0"
  }
 },
 "nbformat": 4,
 "nbformat_minor": 2
}
