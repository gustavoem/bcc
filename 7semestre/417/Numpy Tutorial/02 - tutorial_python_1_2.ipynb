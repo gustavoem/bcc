{
 "cells": [
  {
   "cell_type": "markdown",
   "metadata": {
    "toc": "true"
   },
   "source": [
    "# Table of Contents\n",
    " <p><div class=\"lev1 toc-item\"><a href=\"#A-importância-da-indentação-na-linguagem-Python:\" data-toc-modified-id=\"A-importância-da-indentação-na-linguagem-Python:-1\"><span class=\"toc-item-num\">1&nbsp;&nbsp;</span>A importância da indentação na linguagem Python:</a></div><div class=\"lev1 toc-item\"><a href=\"#Loops\" data-toc-modified-id=\"Loops-2\"><span class=\"toc-item-num\">2&nbsp;&nbsp;</span>Loops</a></div><div class=\"lev2 toc-item\"><a href=\"#Loop-for\" data-toc-modified-id=\"Loop-for-21\"><span class=\"toc-item-num\">2.1&nbsp;&nbsp;</span>Loop for</a></div><div class=\"lev3 toc-item\"><a href=\"#Iterando-numa-lista-de-strings\" data-toc-modified-id=\"Iterando-numa-lista-de-strings-211\"><span class=\"toc-item-num\">2.1.1&nbsp;&nbsp;</span>Iterando numa lista de strings</a></div><div class=\"lev3 toc-item\"><a href=\"#Iterando-numa-lista-de-inteiros\" data-toc-modified-id=\"Iterando-numa-lista-de-inteiros-212\"><span class=\"toc-item-num\">2.1.2&nbsp;&nbsp;</span>Iterando numa lista de inteiros</a></div><div class=\"lev3 toc-item\"><a href=\"#Iterando-nos-caracteres-de-uma-string\" data-toc-modified-id=\"Iterando-nos-caracteres-de-uma-string-213\"><span class=\"toc-item-num\">2.1.3&nbsp;&nbsp;</span>Iterando nos caracteres de uma string</a></div><div class=\"lev3 toc-item\"><a href=\"#Iterando-num-iterador---range\" data-toc-modified-id=\"Iterando-num-iterador---range-214\"><span class=\"toc-item-num\">2.1.4&nbsp;&nbsp;</span>Iterando num iterador - range</a></div><div class=\"lev2 toc-item\"><a href=\"#Loop-while\" data-toc-modified-id=\"Loop-while-22\"><span class=\"toc-item-num\">2.2&nbsp;&nbsp;</span>Loop while</a></div><div class=\"lev2 toc-item\"><a href=\"#Loops-aninhados\" data-toc-modified-id=\"Loops-aninhados-23\"><span class=\"toc-item-num\">2.3&nbsp;&nbsp;</span>Loops aninhados</a></div>"
   ]
  },
  {
   "cell_type": "markdown",
   "metadata": {
    "collapsed": true
   },
   "source": [
    "# A importância da indentação na linguagem Python:\n",
    "\n",
    "Diferentemente das outras linguagens que utilizam palavras-chave como begin e end ou chaves {, } para delimitar seus blocos (if, for, while, etc.), a linguagem Python utiliza a indentação do código para determinar quais comandos estão aninhados dentro de um bloco, portanto a indentação é de fundamental importância na linguagem Python."
   ]
  },
  {
   "cell_type": "code",
   "execution_count": 1,
   "metadata": {
    "collapsed": false
   },
   "outputs": [
    {
     "name": "stdout",
     "output_type": "stream",
     "text": [
      "x é menor que zero!\n",
      "Esta frase é escrita independentemente do valor de x\n",
      "x é menor que zero!\n"
     ]
    }
   ],
   "source": [
    "# Ex1: O último comando print executa independentemente do valor de x\n",
    "x = -1\n",
    "if x < 0:\n",
    "    print ('x é menor que zero!')\n",
    "elif x == 0:\n",
    "    print ('x é igual a zero')\n",
    "else:\n",
    "    print ('x é maior que zero!')\n",
    "print ('Esta frase é escrita independentemente do valor de x')\n",
    "  \n",
    "#Ex2: Os dois últimos comandos print estão dentro do laço devido a\n",
    "#indentação, portanto só executam se x for maior que zero\n",
    "if x < 0:\n",
    "    print ('x é menor que zero!')\n",
    "elif x == 0:\n",
    "    print ('x é igual a zero')\n",
    "else:\n",
    "    print ('x é maior que zero!')\n",
    "    print ('Esta frase é escrita apenas para x maior que zero')"
   ]
  },
  {
   "cell_type": "markdown",
   "metadata": {},
   "source": [
    "# Loops\n",
    "\n",
    "## Loop for\n",
    "\n",
    "### Iterando numa lista de strings"
   ]
  },
  {
   "cell_type": "code",
   "execution_count": 3,
   "metadata": {
    "collapsed": false
   },
   "outputs": [
    {
     "name": "stdout",
     "output_type": "stream",
     "text": [
      "Safari\n",
      "Firefox\n",
      "Google Chrome\n",
      "Opera\n",
      "IE\n"
     ]
    }
   ],
   "source": [
    "browsers = [\"Safari\", \"Firefox\", \"Google Chrome\", \"Opera\", \"IE\"]\n",
    "for browser in browsers:\n",
    "    print(browser)"
   ]
  },
  {
   "cell_type": "markdown",
   "metadata": {},
   "source": [
    "### Iterando numa lista de inteiros"
   ]
  },
  {
   "cell_type": "code",
   "execution_count": 6,
   "metadata": {
    "collapsed": false
   },
   "outputs": [
    {
     "name": "stdout",
     "output_type": "stream",
     "text": [
      "151\n"
     ]
    }
   ],
   "source": [
    "numbers = [1,10,20,30,40,50]\n",
    "sum = 0\n",
    "for number in numbers:\n",
    "    sum = sum + number\n",
    "print(sum)"
   ]
  },
  {
   "cell_type": "markdown",
   "metadata": {},
   "source": [
    "### Iterando nos caracteres de uma stringtanto só executam se x for maior que zero\n",
    "if x<0:"
   ]
  },
  {
   "cell_type": "code",
   "execution_count": 8,
   "metadata": {
    "collapsed": false
   },
   "outputs": [
    {
     "name": "stdout",
     "output_type": "stream",
     "text": [
      "c\n",
      "o\n",
      "m\n",
      "p\n",
      "u\n",
      "t\n",
      "e\n",
      "r\n"
     ]
    }
   ],
   "source": [
    "word = \"computer\"\n",
    "for letter in word:\n",
    "    print(letter)"
   ]
  },
  {
   "cell_type": "markdown",
   "metadata": {},
   "source": [
    "### Iterando num iterador - range\n",
    " "
   ]
  },
  {
   "cell_type": "code",
   "execution_count": 15,
   "metadata": {
    "collapsed": false
   },
   "outputs": [
    {
     "name": "stdout",
     "output_type": "stream",
     "text": [
      "21\n",
      "19\n",
      "17\n",
      "15\n",
      "13\n",
      "11\n",
      "9\n",
      "7\n",
      "5\n",
      "3\n",
      "1\n"
     ]
    }
   ],
   "source": [
    "for a in range(21,-1,-2):\n",
    "    print(a)"
   ]
  },
  {
   "cell_type": "markdown",
   "metadata": {},
   "source": [
    "## Loop while\n",
    "\n",
    "O loop while executa até que uma condição de parada seja atingida."
   ]
  },
  {
   "cell_type": "code",
   "execution_count": 11,
   "metadata": {
    "collapsed": false
   },
   "outputs": [
    {
     "name": "stdout",
     "output_type": "stream",
     "text": [
      "Safari\n",
      "Firefox\n",
      "Google Chrome\n",
      "Opera\n",
      "IE\n"
     ]
    }
   ],
   "source": [
    "browsers = [\"Safari\", \"Firefox\", \"Google Chrome\", \"Opera\", \"IE\"]\n",
    "i = 0\n",
    "while i < len(browsers) and i>=0: # Duas condições para que o loop continue\n",
    "    print(browsers[i])\n",
    "    i = i + 1"
   ]
  },
  {
   "cell_type": "markdown",
   "metadata": {},
   "source": [
    "## Loops aninhados\n",
    "\n",
    "É possível aninhar loops, note que a indentação é importante para saber dentro de qual loop o comando se encontra."
   ]
  },
  {
   "cell_type": "code",
   "execution_count": 13,
   "metadata": {
    "collapsed": false
   },
   "outputs": [
    {
     "name": "stdout",
     "output_type": "stream",
     "text": [
      "1 * 1 = 1\n",
      "1 * 2 = 2\n",
      "Dentro do primeiro for, mas fora do segundo\n",
      "2 * 1 = 2\n",
      "2 * 2 = 4\n",
      "Dentro do primeiro for, mas fora do segundo\n",
      "3 * 1 = 3\n",
      "3 * 2 = 6\n",
      "Dentro do primeiro for, mas fora do segundo\n"
     ]
    }
   ],
   "source": [
    "for x in range(1, 4):\n",
    "    for y in range(1, 3):\n",
    "        print('%d * %d = %d' % (x, y, x*y))\n",
    "    print('Dentro do primeiro for, mas fora do segundo')"
   ]
  }
 ],
 "metadata": {
  "kernelspec": {
   "display_name": "Python 3",
   "language": "python",
   "name": "python3"
  },
  "language_info": {
   "codemirror_mode": {
    "name": "ipython",
    "version": 3
   },
   "file_extension": ".py",
   "mimetype": "text/x-python",
   "name": "python",
   "nbconvert_exporter": "python",
   "pygments_lexer": "ipython3",
   "version": "3.6.0"
  },
  "toc": {
   "colors": {
    "hover_highlight": "#DAA520",
    "running_highlight": "#FF0000",
    "selected_highlight": "#FFD700"
   },
   "moveMenuLeft": true,
   "nav_menu": {
    "height": "12px",
    "width": "252px"
   },
   "navigate_menu": true,
   "number_sections": true,
   "sideBar": true,
   "threshold": 4,
   "toc_cell": true,
   "toc_section_display": "block",
   "toc_window_display": false
  }
 },
 "nbformat": 4,
 "nbformat_minor": 2
}
