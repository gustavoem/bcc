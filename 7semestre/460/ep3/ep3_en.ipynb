{
 "cells": [
  {
   "cell_type": "code",
   "execution_count": 1,
   "metadata": {
    "collapsed": true
   },
   "outputs": [],
   "source": [
    "import numpy as np\n",
    "import matplotlib.pyplot as plt"
   ]
  },
  {
   "cell_type": "markdown",
   "metadata": {},
   "source": [
    "# MAC0460/5832 - EP 3: Neural Networks - MNIST\n",
    "\n",
    "### Due date: 23h55m - 23/06/2017\n",
    "\n",
    "##### Digit classification\n",
    "The dataset for this task was taken from kaggle's competition of digit recognition (https://www.kaggle.com/c/digit-recognizer) and it is available for download at http://vision.ime.usp.br/~caiomr/mac0460_5832/train.csv.gz. This dataset license is reative Commons Attribution-Share Alike 3.0 license (https://creativecommons.org/licenses/by-sa/3.0/). Each line (sample) has 785 columns: the first one is the label of the sample and the other 784 are the pixels of a (28x28) image.\n",
    "\n",
    "Q1. Use a neural network to solve the problem of digit classification. Download the file train.csv.gz (link above) and unzip it to the folder data/. Check that following couple of cells are execute succesfully and output the expected result. To develop your neural network, use either the python packages tensorflow (https://www.tensorflow.org/) or theano (http://deeplearning.net/software/theano/). Chose the one you prefer/are more familiar with - or the one you want to gain more familiarity :) - to define your neural network. Use the architecture 3-layer NN 300+100 hidden units (error 3.05%), as describe in this site http://yann.lecun.com/exdb/mnist/index.html.\n",
    "\n",
    "\n",
    "Experiment with the data in the following forms:\n",
    "\n",
    "1. Imagem original.\n",
    "2. Imagem amostrada com passo 1, isto é, reduz a imagem para 1/4 do número total de pixels.\n",
    "3. Imagem amostrada com passo 2, isto é, reduz a imagem para 1/16 do número total de pixels.\n",
    "\n",
    "\n",
    "For each experiment, execute the following procedures:\n",
    "1. Compute the learning curve for different number of samples (N = 5000, N = 10000, N = 15000, ..., N = 35000), estimate $E_{out}$ from the 7000 unused samples.\n",
    "2. For N = 35000 (that is, take 7000 samples for validation), compute your classifier precision $\\epsilon = E_{out} - E_{in}$.\n",
    "3. Take the value of $\\epsilon$ computed in 2; repeat ten times the learning experiment for N = 35000 and 7000 samples for validation (in each experiment, pick 7000 samples randomly, from the whole dataset of 42000 samples, to be your validation set and the remaining use as training set); compute $E_{out}$ for each experiment; from $E_{out}$ values computed, estimate $\\delta$.\n",
    "\n",
    "Use the learning rate $\\eta = 0.001$.\n",
    "For item 3, remember the equation $P(|E_{out}(h_{opt}) - E_{in}(h_{opt})| < \\epsilon) > 1 - \\delta$."
   ]
  },
  {
   "cell_type": "code",
   "execution_count": 2,
   "metadata": {},
   "outputs": [
    {
     "name": "stdout",
     "output_type": "stream",
     "text": [
      "(42000, 785)\n"
     ]
    }
   ],
   "source": [
    "data = np.genfromtxt('data/train.csv', delimiter=',', skip_header=1).astype(np.dtype('uint8'))\n",
    "print(data.shape)"
   ]
  },
  {
   "cell_type": "code",
   "execution_count": 3,
   "metadata": {},
   "outputs": [
    {
     "name": "stdout",
     "output_type": "stream",
     "text": [
      "Label:  1\n"
     ]
    },
    {
     "data": {
      "image/png": "[encoded data removed]",
      "text/plain": [
       "<matplotlib.figure.Figure at 0x7fa5b85a6470>"
      ]
     },
     "metadata": {},
     "output_type": "display_data"
    },
    {
     "name": "stdout",
     "output_type": "stream",
     "text": [
      "Label:  0\n"
     ]
    },
    {
     "data": {
      "image/png": "[encoded data removed]",
      "text/plain": [
       "<matplotlib.figure.Figure at 0x7fa5e4f1d400>"
      ]
     },
     "metadata": {},
     "output_type": "display_data"
    },
    {
     "name": "stdout",
     "output_type": "stream",
     "text": [
      "Label:  8\n"
     ]
    },
    {
     "data": {
      "image/png": "[encoded data removed]",
      "text/plain": [
       "<matplotlib.figure.Figure at 0x7fa57fb36f60>"
      ]
     },
     "metadata": {},
     "output_type": "display_data"
    }
   ],
   "source": [
    "sample = data[0]\n",
    "print(\"Label: \", sample[0])\n",
    "plt.imshow(sample[1:].reshape((28,28)), cmap='gray')\n",
    "plt.show()\n",
    "\n",
    "sample = data[1]\n",
    "print(\"Label: \", sample[0])\n",
    "plt.imshow(sample[1:].reshape((28,28)), cmap='gray')\n",
    "plt.show()\n",
    "\n",
    "sample = data[20]\n",
    "print(\"Label: \", sample[0])\n",
    "plt.imshow(sample[1:].reshape((28,28)), cmap='gray')\n",
    "plt.show()"
   ]
  },
  {
   "cell_type": "markdown",
   "metadata": {
    "collapsed": true
   },
   "source": [
    "Q2. The learning algorithm implemented in the previous question includes regularization? If it does, explain how. If it doesn't, explain how you would include regularization in it and explain how it would improve the results obtained."
   ]
  },
  {
   "cell_type": "code",
   "execution_count": null,
   "metadata": {
    "collapsed": true
   },
   "outputs": [],
   "source": []
  }
 ],
 "metadata": {
  "kernelspec": {
   "display_name": "Python 3",
   "language": "python",
   "name": "python3"
  },
  "language_info": {
   "codemirror_mode": {
    "name": "ipython",
    "version": 3
   },
   "file_extension": ".py",
   "mimetype": "text/x-python",
   "name": "python",
   "nbconvert_exporter": "python",
   "pygments_lexer": "ipython3",
   "version": "3.6.1"
  }
 },
 "nbformat": 4,
 "nbformat_minor": 2
}
